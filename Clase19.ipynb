{
 "cells": [
  {
   "attachments": {},
   "cell_type": "markdown",
   "metadata": {},
   "source": [
    "### 1. Implementación de un Multilayer Perceptron\n",
    "\n",
    "• Conjunto de datos MNIST\n",
    "\n",
    "• Tarea compleja"
   ]
  },
  {
   "cell_type": "code",
   "execution_count": 1,
   "metadata": {},
   "outputs": [
    {
     "data": {
      "image/png": "[encoded data removed]",
      "text/plain": [
       "<Figure size 960x720 with 10 Axes>"
      ]
     },
     "metadata": {},
     "output_type": "display_data"
    }
   ],
   "source": [
    "from sklearn.datasets import load_digits\n",
    "import matplotlib.pyplot as plt\n",
    "import numpy as np\n",
    "digits = load_digits()\n",
    "fig, ax = plt.subplots(1, 10,dpi=150)\n",
    "for i in range(10):\n",
    "    ax[i].imshow(digits.images[i], cmap='Greys')\n",
    "# plt.savefig('figures/05_12.png', dpi=300)\n",
    "plt.show()"
   ]
  },
  {
   "cell_type": "code",
   "execution_count": 2,
   "metadata": {},
   "outputs": [
    {
     "name": "stdout",
     "output_type": "stream",
     "text": [
      "Etiquetas de Clase: [0 1 2 3 4 5 6 7 8 9]\n"
     ]
    }
   ],
   "source": [
    "X = digits.data\n",
    "y = digits.target\n",
    "print('Etiquetas de Clase:', np.unique(y))"
   ]
  },
  {
   "cell_type": "code",
   "execution_count": 3,
   "metadata": {},
   "outputs": [
    {
     "name": "stdout",
     "output_type": "stream",
     "text": [
      "Datos por Clase: [178 182 177 183 181 182 181 179 174 180]\n"
     ]
    }
   ],
   "source": [
    "print('Datos por Clase:', np.bincount(y))"
   ]
  },
  {
   "cell_type": "code",
   "execution_count": 4,
   "metadata": {},
   "outputs": [],
   "source": [
    "from sklearn.model_selection import train_test_split\n",
    "x_train, x_test, y_train, y_test = train_test_split(X, y, test_size= 0.3,random_state= 271828, stratify= y)"
   ]
  },
  {
   "cell_type": "code",
   "execution_count": 5,
   "metadata": {},
   "outputs": [
    {
     "name": "stdout",
     "output_type": "stream",
     "text": [
      "Datos por Clase: [124 127 124 128 127 127 127 125 122 126]\n"
     ]
    }
   ],
   "source": [
    "print('Datos por Clase:', np.bincount(y_train))"
   ]
  },
  {
   "cell_type": "code",
   "execution_count": 6,
   "metadata": {},
   "outputs": [
    {
     "name": "stdout",
     "output_type": "stream",
     "text": [
      "Datos por Clase: [54 55 53 55 54 55 54 54 52 54]\n"
     ]
    }
   ],
   "source": [
    "print('Datos por Clase:', np.bincount(y_test))"
   ]
  },
  {
   "attachments": {},
   "cell_type": "markdown",
   "metadata": {},
   "source": [
    "Observemos el subespacio de entrada"
   ]
  },
  {
   "cell_type": "code",
   "execution_count": 7,
   "metadata": {},
   "outputs": [
    {
     "data": {
      "text/plain": [
       "(1257, 64)"
      ]
     },
     "execution_count": 7,
     "metadata": {},
     "output_type": "execute_result"
    }
   ],
   "source": [
    "x_train.shape"
   ]
  },
  {
   "cell_type": "code",
   "execution_count": 8,
   "metadata": {},
   "outputs": [
    {
     "data": {
      "text/plain": [
       "0.0"
      ]
     },
     "execution_count": 8,
     "metadata": {},
     "output_type": "execute_result"
    }
   ],
   "source": [
    "np.min(x_train)"
   ]
  },
  {
   "cell_type": "code",
   "execution_count": 9,
   "metadata": {},
   "outputs": [
    {
     "data": {
      "text/plain": [
       "16.0"
      ]
     },
     "execution_count": 9,
     "metadata": {},
     "output_type": "execute_result"
    }
   ],
   "source": [
    "np.max(x_train)"
   ]
  },
  {
   "cell_type": "code",
   "execution_count": 10,
   "metadata": {},
   "outputs": [],
   "source": [
    "x_train = x_train.astype('float32') / 16\n",
    "x_test = x_test.astype('float32') / 16"
   ]
  },
  {
   "cell_type": "code",
   "execution_count": 11,
   "metadata": {},
   "outputs": [],
   "source": [
    "import sys\n",
    "class NeuralNetMLP(object):\n",
    "    \"\"\" Clasificador MLP de una sola Capa Oculta.\n",
    "    Parameters\n",
    "    ------------\n",
    "    n_hidden : int (default: 30)\n",
    "    Número de unidades ocultas.\n",
    "    l2 : float (default: 0.)\n",
    "    Valor lambda para Regularización L2.\n",
    "    Si l2=0 (default), no hay Regularización.\n",
    "    epochs : int (default: 100)\n",
    "    Número de pasadas sobre el conjunto de entrenamiento.\n",
    "    eta : float (default: 0.001)\n",
    "    Tasa de aprendizaje.\n",
    "    shuffle : bool (default: True)\n",
    "    Si es True, mezcla los datos de entrenamiento cada época.\n",
    "    minibatch_size : int (default: 1)\n",
    "    Número de muestras de entrenamiento por minibatch.\n",
    "    seed : int (default: None)\n",
    "    Semilla aleatoria para inicializar pesos y barajar (mezclar).\n",
    "    Attributes\n",
    "    -----------\n",
    "    eval_ : dict\n",
    "    Diccionario que almacena valord e la pérdida, la exactitud del entrenamiento\n",
    "    y la exactitud del test para cada época de entrenamiento.\n",
    "    \"\"\"\n",
    "    def __init__(self, n_hidden=30, l2=0.,epochs=100, eta=0.001,shuffle=True, minibatch_size=1, seed=None):\n",
    "        self.random = np.random.RandomState(seed)\n",
    "        self.n_hidden = n_hidden\n",
    "        self.l2 = l2\n",
    "        self.epochs = epochs\n",
    "        self.eta = eta\n",
    "        self.shuffle = shuffle\n",
    "        self.minibatch_size = minibatch_size\n",
    "    \n",
    "    def _onehot(self, y, n_classes):\n",
    "        \"\"\"Codificar etiquetas en representación one-hot.\n",
    "        Parameters\n",
    "        ------------\n",
    "        y : array, shape = [n_samples]\n",
    "        Vector de etiquetas.\n",
    "        Returns\n",
    "        -----------\n",
    "        onehot : array, shape = (n_samples, n_labels)\n",
    "        \"\"\"\n",
    "        onehot = np.zeros((n_classes, y.shape[0]))\n",
    "        for idx, val in enumerate(y.astype(int)):\n",
    "            onehot[val, idx] = 1.\n",
    "        return onehot.T\n",
    "\n",
    "    def _sigmoid(self, z):\n",
    "        \"\"\"Calcular la función de activación Sigmoide\"\"\"\n",
    "        return 1. / (1. + np.exp(-np.clip(z, -250, 250)))\n",
    "    \n",
    "    def _forward(self, X):\n",
    "        \"\"\"Calcular el paso de propagación hacia adelante\"\"\"\n",
    "        #paso 1: entrada de la capa oculta\n",
    "        #[n_samples,n_features+1] * [n_features+1,n_hidden] ->[n_samples,n_hidden]\n",
    "        z_h = np.dot(X, self.w_h) + self.b_h\n",
    "        #paso 2: activación de la capa oculta\n",
    "        a_h = self._sigmoid(z_h)\n",
    "        #paso 3: entrada de la capa de salida\n",
    "        #[n_samples,n_hidden+1] * [n_hidden+1,n_classlabels] ->[n_samples,n_classlabels]\n",
    "        z_out = np.dot(a_h, self.w_out) + self.b_out\n",
    "        #paso 4: activación de la capa de salida\n",
    "        a_out = self._sigmoid(z_out)\n",
    "        return z_h, a_h, z_out, a_out\n",
    "    \n",
    "    def _compute_cost(self, y_enc, output):\n",
    "        \"\"\"Calcular la función de pérdida. En este caso,\n",
    "        se utiliza la Función de Costo Logístico.\n",
    "        Parameters\n",
    "        ----------\n",
    "        y_enc : array, shape = (n_samples, n_labels)\n",
    "        Etiquetas de clase codificadas one-hot.\n",
    "        output : array, shape = [n_samples, n_output_units]\n",
    "        Activación de la capa de salida (propagación hacia adelante)\n",
    "        Returns\n",
    "        ---------\n",
    "        cost : float\n",
    "        Valor de la pérdida.\n",
    "        \"\"\"\n",
    "        L2_term = (self.l2 *(np.sum(self.w_h ** 2.) + np.sum(self.w_out ** 2.)))\n",
    "        term1 = -y_enc * (np.log(output))\n",
    "        term2 = -(1. - y_enc) * np.log(1. - output)\n",
    "        cost = np.sum(term1 - term2) + L2_term\n",
    "        #Si está aplicando esta función de pérdida a otros conjuntos de datos␣donde los valores\n",
    "        #de activación pueden volverse más extremos (más cerca de cero o 1),␣es posible\n",
    "        #que se encuentre con \"ZeroDivisionError\" debido a inestabilidades␣numéricas en Python y NumPy\n",
    "        #para la implementación actual. Es decir, el código intenta evaluar␣log(0),\n",
    "        #que no está definido. Para solucionar este problema, se puede agregar␣una pequeña\n",
    "        #constante a los valores de activación que se pasan a la función de␣pérdida.\n",
    "        #\n",
    "        #Por ejemplo:\n",
    "        #\n",
    "        #term1 = -y_enc * (np.log(output + 1e-5))\n",
    "        #term2 = (1. - y_enc) * np.log(1. - output + 1e-5)\n",
    "        return cost\n",
    "    \n",
    "    def predict(self, X):\n",
    "        \"\"\"Predecir etiquetas de clases.\n",
    "        Parameters\n",
    "        -----------\n",
    "        X : array, shape = [n_samples, n_features]\n",
    "        Matriz de características.\n",
    "        Returns:\n",
    "        ----------\n",
    "        y_pred : array, shape = [n_samples]\n",
    "        Etiquetas de clase predichas.\n",
    "        \"\"\"\n",
    "        z_h, a_h, z_out, a_out = self._forward(X)\n",
    "        y_pred = np.argmax(z_out, axis=1)\n",
    "        return y_pred\n",
    "    \n",
    "    def fit(self, X_train, y_train, X_valid, y_valid):\n",
    "        \"\"\" Aprendizaje de los pesos a partir de datos de entrenamiento.\n",
    "        Parameters\n",
    "        -----------\n",
    "        X_train : array, shape = [n_samples, n_features]\n",
    "        Matriz de entrada con características originales.\n",
    "        y_train : array, shape = [n_samples]\n",
    "        Etiquetas de clase.\n",
    "        X_valid : array, shape = [n_samples, n_features]\n",
    "        Matriz de características para validación durante el entrenamiento\n",
    "        y_valid : array, shape = [n_samples]\n",
    "        Etiquetas de clase para validación durante el entrenamiento\n",
    "        Returns:\n",
    "        ----------\n",
    "        self\n",
    "        \"\"\"\n",
    "        n_output = np.unique(y_train).shape[0]\n",
    "        n_features = X_train.shape[1]\n",
    "        #############################\n",
    "        #Inicialización de los Pesos\n",
    "        #############################\n",
    "        #pesos para capa entrada-oculta\n",
    "        self.b_h = np.zeros(self.n_hidden)\n",
    "        self.w_h = self.random.normal(loc=0.0, scale=0.1,size=(n_features, self.n_hidden))\n",
    "        #pesos para capa oculta-salida\n",
    "        self.b_out = np.zeros(n_output)\n",
    "        self.w_out = self.random.normal(loc=0.0, scale=0.1,size=(self.n_hidden,n_output))\n",
    "        epoch_strlen = len(str(self.epochs))\n",
    "        self.eval_ = {'cost': [], 'train_acc': [], 'valid_acc': []}\n",
    "        y_train_enc = self._onehot(y_train, n_output)\n",
    "        for i in range(self.epochs):\n",
    "        #iterar sobre minibatches\n",
    "            indices = np.arange(X_train.shape[0])\n",
    "            if self.shuffle:\n",
    "                self.random.shuffle(indices)\n",
    "            for start_idx in range(0,indices.shape[0] - self.minibatch_size+1,self.minibatch_size):\n",
    "                batch_idx = indices[start_idx:start_idx + self.minibatch_size]\n",
    "                #propagación hacia adelante\n",
    "                z_h, a_h, z_out, a_out = self._forward(X_train[batch_idx])\n",
    "                ##################################\n",
    "                #Backpropagation: En este caso,\n",
    "                #para Función de Costo Logístico.\n",
    "                ##################################\n",
    "                #[n_samples, n_classlabels]\n",
    "                sigma_out = a_out - y_train_enc[batch_idx]\n",
    "                #[n_samples, n_hidden]\n",
    "                sigmoid_derivative_h = a_h * (1. - a_h)\n",
    "                #[n_samples, n_classlabels] dot [n_classlabels, n_hidden]\n",
    "                #-> [n_samples, n_hidden]\n",
    "                sigma_h = (np.dot(sigma_out, self.w_out.T)*sigmoid_derivative_h)\n",
    "                #[n_features, n_samples] dot [n_samples, n_hidden]\n",
    "                #-> [n_features, n_hidden]\n",
    "                grad_w_h = np.dot(X_train[batch_idx].T, sigma_h)\n",
    "                grad_b_h = np.sum(sigma_h, axis=0)\n",
    "                #[n_hidden, n_samples] dot [n_samples, n_classlabels]\n",
    "                #-> [n_hidden, n_classlabels]\n",
    "                grad_w_out = np.dot(a_h.T, sigma_out)\n",
    "                grad_b_out = np.sum(sigma_out, axis=0)\n",
    "                # Regularización y actualización de pesos\n",
    "                delta_w_h = (grad_w_h + self.l2*self.w_h)\n",
    "                delta_b_h = grad_b_h # coeficiente de sesgo no está regularizado\n",
    "                self.w_h -= self.eta * delta_w_h\n",
    "                self.b_h -= self.eta * delta_b_h\n",
    "                delta_w_out = (grad_w_out + self.l2*self.w_out)\n",
    "                delta_b_out = grad_b_out\n",
    "                self.w_out -= self.eta * delta_w_out\n",
    "                self.b_out -= self.eta * delta_b_out\n",
    "            #############\n",
    "            #Evaluación\n",
    "            #############\n",
    "            z_h, a_h, z_out, a_out = self._forward(X_train)\n",
    "            cost = self._compute_cost(y_enc=y_train_enc,output=a_out)\n",
    "            y_train_pred = self.predict(X_train)\n",
    "            y_valid_pred = self.predict(X_valid)\n",
    "            train_acc = ((np.sum(y_train == y_train_pred)).astype(float) /X_train.shape[0])\n",
    "            valid_acc = ((np.sum(y_valid == y_valid_pred)).astype(float) /X_valid.shape[0])\n",
    "            sys.stderr.write('\\r%0*d/%d | Cost: %.2f '\n",
    "'| Train/Valid Acc.: %.2f%%/%.2f%% ' %\n",
    "(epoch_strlen, i+1, self.epochs, cost,\n",
    "train_acc*100, valid_acc*100))\n",
    "            sys.stderr.flush()\n",
    "            self.eval_['cost'].append(cost)\n",
    "            self.eval_['train_acc'].append(train_acc)\n",
    "            self.eval_['valid_acc'].append(valid_acc)\n",
    "        return self"
   ]
  },
  {
   "cell_type": "code",
   "execution_count": 12,
   "metadata": {},
   "outputs": [
    {
     "name": "stderr",
     "output_type": "stream",
     "text": [
      "20/20 | Cost: 1400.45 | Train/Valid Acc.: 78.68%/78.52% "
     ]
    },
    {
     "data": {
      "text/plain": [
       "<__main__.NeuralNetMLP at 0x214380cdac0>"
      ]
     },
     "execution_count": 12,
     "metadata": {},
     "output_type": "execute_result"
    }
   ],
   "source": [
    "MLP = NeuralNetMLP(n_hidden=100,l2=0.01,epochs=20,eta=0.0005,minibatch_size=64,shuffle=True,seed=10)\n",
    "MLP.fit(X_train=x_train, y_train=y_train,X_valid=x_test, y_valid=y_test)"
   ]
  },
  {
   "cell_type": "code",
   "execution_count": 13,
   "metadata": {},
   "outputs": [
    {
     "data": {
      "image/png": "[encoded data removed]",
      "text/plain": [
       "<Figure size 640x480 with 1 Axes>"
      ]
     },
     "metadata": {},
     "output_type": "display_data"
    }
   ],
   "source": [
    "import matplotlib.pyplot as plt\n",
    "\n",
    "plt.plot(range(MLP.epochs), MLP.eval_['cost'])\n",
    "plt.ylabel('Cost')\n",
    "plt.xlabel('Epochs')\n",
    "plt.show()"
   ]
  },
  {
   "cell_type": "code",
   "execution_count": 14,
   "metadata": {},
   "outputs": [
    {
     "data": {
      "image/png": "[encoded data removed]",
      "text/plain": [
       "<Figure size 640x480 with 1 Axes>"
      ]
     },
     "metadata": {},
     "output_type": "display_data"
    }
   ],
   "source": [
    "plt.plot(range(MLP.epochs), MLP.eval_['train_acc'], label='training')\n",
    "plt.plot(range(MLP.epochs), MLP.eval_['valid_acc'], label='validation',linestyle='--')\n",
    "plt.ylabel('Accuracy')\n",
    "plt.xlabel('Epochs')\n",
    "plt.legend()\n",
    "plt.show()"
   ]
  },
  {
   "cell_type": "code",
   "execution_count": 15,
   "metadata": {},
   "outputs": [
    {
     "name": "stdout",
     "output_type": "stream",
     "text": [
      "Test accuracy: 78.52%\n"
     ]
    }
   ],
   "source": [
    "y_test_pred = MLP.predict(x_test)\n",
    "acc = (np.sum(y_test == y_test_pred).astype(float) / x_test.shape[0])\n",
    "print('Test accuracy: %.2f%%' % (acc * 100))"
   ]
  }
 ],
 "metadata": {
  "kernelspec": {
   "display_name": "ima539",
   "language": "python",
   "name": "python3"
  },
  "language_info": {
   "codemirror_mode": {
    "name": "ipython",
    "version": 3
   },
   "file_extension": ".py",
   "mimetype": "text/x-python",
   "name": "python",
   "nbconvert_exporter": "python",
   "pygments_lexer": "ipython3",
   "version": "3.9.0"
  },
  "orig_nbformat": 4
 },
 "nbformat": 4,
 "nbformat_minor": 2
}

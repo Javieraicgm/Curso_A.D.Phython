{
 "cells": [
  {
   "attachments": {},
   "cell_type": "markdown",
   "metadata": {},
   "source": [
    "### Pregunta 1\n",
    "La Base de Datos Concrete contiene im ́agenes de paredes de concreto con grietas (Positive) y sin grietas (Negative). Siguiendo las buenas pr ́acticas aprendidas en el curso y utilizando Pytorch.\n",
    "\n",
    "1.1 Leer las imagenes desde ambos directorios (Positive y Negative) y generar un conjunto de datos (X, y), con X el tensor de entrada e y las etiquetas de clases. Luego, construir los subconjuntos de entrenamiento y de validacion, tomando el 70% de los datos para el entrenamiento."
   ]
  },
  {
   "cell_type": "code",
   "execution_count": 44,
   "metadata": {},
   "outputs": [],
   "source": [
    "#Librerias\n",
    "import os\n",
    "#Funcion \n",
    "def ReadFolders(root):\n",
    "    #Ruta folder 'Concrete'\n",
    "    img_path = []\n",
    "    img_class = []\n",
    "    #Folders dentro de 'Concrete'\n",
    "    for class_dir in os.listdir(root):\n",
    "        #Ignorar el archivo 'leeer.txt'\n",
    "        if class_dir == 'leeer.txt':\n",
    "            continue\n",
    "        #Ruta folders\n",
    "        class_dir_path = os.path.join(root, class_dir)\n",
    "        #Ruta de las imagenes dentro de los folders\n",
    "        elems = [os.path.join(class_dir_path, x) for x in os.listdir(class_dir_path)]\n",
    "        #Se agregan a la lista de rutas\n",
    "        img_path.extend(elems)\n",
    "        #Se le asigna clase '1' a las imagenes de la carpeta 'Positive' \n",
    "        if class_dir == 'Positive':\n",
    "            img_class.extend([1 for _ in range(len(elems))])\n",
    "        #Se le asigna clase '0' a las imagenes de la carpeta 'Negative' \n",
    "        else:\n",
    "            img_class.extend([0 for _ in range(len(elems))])\n",
    "    return img_path, img_class\n",
    "img_path, img_class = ReadFolders(root='Concrete')"
   ]
  },
  {
   "cell_type": "code",
   "execution_count": 45,
   "metadata": {},
   "outputs": [],
   "source": [
    "#Librerias \n",
    "from sklearn.model_selection import train_test_split\n",
    "\n",
    "#Data size\n",
    "img_path_idxs = list(range(len(img_path)))\n",
    "#Indices de los archivos que seran para el entrenamiento (70%) y validacion (30%)\n",
    "x_train, x_val, y_train, y_val = train_test_split(img_path_idxs, img_class, test_size=0.3, random_state=0, stratify=img_class)"
   ]
  },
  {
   "cell_type": "code",
   "execution_count": 46,
   "metadata": {},
   "outputs": [],
   "source": [
    "#Librerias\n",
    "import torch\n",
    "import torchvision\n",
    "import numpy as np\n",
    "from torch.utils.data import Dataset, DataLoader\n",
    "#Clase que creara los conjuntos de imagenes en forma tensorial\n",
    "class CustomImageDataset(Dataset):\n",
    "    def __init__(self, img_path, img_class, img_idxs):\n",
    "        self.split_indexes = img_idxs\n",
    "        self.path = np.array(img_path)[img_idxs]\n",
    "        self.labels = np.array(img_class)[img_idxs]\n",
    "    def __len__(self):\n",
    "        return len(self.split_indexes)\n",
    "    def __getitem__(self, idx):\n",
    "        image = torchvision.io.read_image(self.path[idx]).float()\n",
    "        label = torch.tensor(self.labels[idx])\n",
    "        return image, label\n",
    "#Dataset\n",
    "train_ds = CustomImageDataset(img_path, img_class, x_train)\n",
    "valid_ds = CustomImageDataset(img_path, img_class, x_val)\n",
    "#DataLoader\n",
    "batch_size = 128\n",
    "train_dl = DataLoader(train_ds, batch_size=batch_size, shuffle = True)\n",
    "valid_dl = DataLoader(valid_ds,batch_size=batch_size, shuffle = True)"
   ]
  },
  {
   "attachments": {},
   "cell_type": "markdown",
   "metadata": {},
   "source": [
    "1.2 Ajustar una Red Convolucional (CNN) para predecir si una nueva imagen de una pared de concreto tiene o no tiene grieta. Mostrar las curvas de aprendizaje del modelo durante el entrenamiento (para los conjuntos de entrenamiento y de validacion), considerando la Funcion de Perdida y la\n",
    "Exactitud. ¿Existe sobreajuste o bajo ajuste?"
   ]
  },
  {
   "cell_type": "code",
   "execution_count": 47,
   "metadata": {},
   "outputs": [
    {
     "name": "stdout",
     "output_type": "stream",
     "text": [
      "227x227 pixeles\n"
     ]
    }
   ],
   "source": [
    "#Tamaxo de las imagenes\n",
    "from PIL import Image\n",
    "# Ruta de la imagen\n",
    "ruta_imagen = img_path[0]\n",
    "# Cargar la imagen utilizando PIL\n",
    "imagen = Image.open(ruta_imagen)\n",
    "# Obtener las dimensiones de la imagen\n",
    "ancho, alto = imagen.size\n",
    "# Imprimir las dimensiones de la imagen\n",
    "print(f'{ancho}x{alto} pixeles')"
   ]
  },
  {
   "cell_type": "code",
   "execution_count": 48,
   "metadata": {},
   "outputs": [],
   "source": [
    "from torch import nn\n",
    "\n",
    "#Capas del modelo\n",
    "model = nn.Sequential()\n",
    "# Conv -> ReLU -> MaxPooling\n",
    "model.add_module('conv1', nn.Conv2d(in_channels=3,out_channels=32,kernel_size=5,padding=2))\n",
    "model.add_module('relu1', nn.ReLU())\n",
    "model.add_module('pool1', nn.MaxPool2d(kernel_size=5))\n",
    "# Conv -> ReLU -> MaxPooling\n",
    "model.add_module('conv2', nn.Conv2d(in_channels=32,out_channels=64,kernel_size=5,padding=2))\n",
    "model.add_module('relu2', nn.ReLU())\n",
    "model.add_module('pool2', nn.MaxPool2d(kernel_size=5))\n",
    "# Flatten\n",
    "model.add_module('flatten', nn.Flatten())\n",
    "# Full Connected -> ReLU -> Dropout\n",
    "model.add_module('fc1', nn.Linear(5184,1024))\n",
    "model.add_module('relu3', nn.ReLU())\n",
    "model.add_module('dropout', nn.Dropout(p= .5))\n",
    "# Full Connected\n",
    "model.add_module('fc2', nn.Linear(1024, 2))"
   ]
  },
  {
   "cell_type": "code",
   "execution_count": 49,
   "metadata": {},
   "outputs": [
    {
     "name": "stdout",
     "output_type": "stream",
     "text": [
      "You're using: cuda as device.\n"
     ]
    }
   ],
   "source": [
    "# Selección de la unidad de procesamiento\n",
    "processing_unit = 'cuda' if torch.cuda.is_available() else 'cpu'\n",
    "device = torch.device(processing_unit)\n",
    "model.to(device)\n",
    "print(f\"You're using: {device} as device.\")"
   ]
  },
  {
   "cell_type": "code",
   "execution_count": 50,
   "metadata": {},
   "outputs": [
    {
     "data": {
      "text/plain": [
       "==========================================================================================\n",
       "Layer (type:depth-idx)                   Output Shape              Param #\n",
       "==========================================================================================\n",
       "Sequential                               [128, 2]                  --\n",
       "├─Conv2d: 1-1                            [128, 32, 227, 227]       2,432\n",
       "├─ReLU: 1-2                              [128, 32, 227, 227]       --\n",
       "├─MaxPool2d: 1-3                         [128, 32, 45, 45]         --\n",
       "├─Conv2d: 1-4                            [128, 64, 45, 45]         51,264\n",
       "├─ReLU: 1-5                              [128, 64, 45, 45]         --\n",
       "├─MaxPool2d: 1-6                         [128, 64, 9, 9]           --\n",
       "├─Flatten: 1-7                           [128, 5184]               --\n",
       "├─Linear: 1-8                            [128, 1024]               5,309,440\n",
       "├─ReLU: 1-9                              [128, 1024]               --\n",
       "├─Dropout: 1-10                          [128, 1024]               --\n",
       "├─Linear: 1-11                           [128, 2]                  2,050\n",
       "==========================================================================================\n",
       "Total params: 5,365,186\n",
       "Trainable params: 5,365,186\n",
       "Non-trainable params: 0\n",
       "Total mult-adds (G): 30.01\n",
       "==========================================================================================\n",
       "Input size (MB): 79.15\n",
       "Forward/backward pass size (MB): 1822.26\n",
       "Params size (MB): 21.46\n",
       "Estimated Total Size (MB): 1922.87\n",
       "=========================================================================================="
      ]
     },
     "execution_count": 50,
     "metadata": {},
     "output_type": "execute_result"
    }
   ],
   "source": [
    "from torchinfo import summary\n",
    "summary(model,input_data = torch.randint(0, 255, (batch_size, 3, 227, 227))/ 255,\n",
    "        col_names=[\"output_size\", \"num_params\"], verbose= 0, device= device)"
   ]
  },
  {
   "cell_type": "code",
   "execution_count": 8,
   "metadata": {},
   "outputs": [],
   "source": [
    "loss_fn = nn.CrossEntropyLoss()\n",
    "optimizer = torch.optim.Adam(model.parameters(), lr= .001)"
   ]
  },
  {
   "cell_type": "code",
   "execution_count": 9,
   "metadata": {},
   "outputs": [
    {
     "name": "stdout",
     "output_type": "stream",
     "text": [
      "Epoch 1 accuracy: 0.9205 val_accuracy: 0.9832\n",
      "Epoch 2 accuracy: 0.9844 val_accuracy: 0.9893\n",
      "Epoch 3 accuracy: 0.9870 val_accuracy: 0.9863\n",
      "Epoch 4 accuracy: 0.9907 val_accuracy: 0.9902\n",
      "Epoch 5 accuracy: 0.9912 val_accuracy: 0.9922\n"
     ]
    }
   ],
   "source": [
    "from sklearn.metrics import confusion_matrix\n",
    "loss_fn = nn.CrossEntropyLoss()\n",
    "optimizer = torch.optim.Adam(model.parameters(), lr= .001)\n",
    "def train(model, num_epochs, train_dl, valid_dl, device):\n",
    "    loss_hist_train = torch.zeros(num_epochs).to(device)\n",
    "    accuracy_hist_train = torch.zeros(num_epochs).to(device)\n",
    "    loss_hist_valid = torch.zeros(num_epochs).to(device)\n",
    "    accuracy_hist_valid = torch.zeros(num_epochs).to(device)\n",
    "    for epoch in range(num_epochs):\n",
    "        model.train()\n",
    "        for x_batch, y_batch in train_dl:\n",
    "            x_batch, y_batch = x_batch.to(device,dtype=torch.float), y_batch.to(device,dtype=torch.long)\n",
    "            pred = model(x_batch)\n",
    "            loss = loss_fn(pred, y_batch)\n",
    "            optimizer.zero_grad()\n",
    "            loss.backward()\n",
    "            optimizer.step()\n",
    "            loss_hist_train[epoch] += loss.item() * y_batch.size(0)\n",
    "            is_correct = (torch.argmax(pred, dim=1) == y_batch).float()\n",
    "            accuracy_hist_train[epoch] += is_correct.sum()\n",
    "        loss_hist_train[epoch] /= len(train_dl.dataset)\n",
    "        accuracy_hist_train[epoch] /= len(train_dl.dataset)\n",
    "        model.eval()\n",
    "        with torch.no_grad():\n",
    "            for x_batch, y_batch in valid_dl:\n",
    "                x_batch, y_batch = x_batch.to(device,dtype=torch.float), y_batch.to(device,dtype=torch.long)\n",
    "                pred = model(x_batch)\n",
    "                loss = loss_fn(pred, y_batch)\n",
    "                loss_hist_valid[epoch] += loss.item() * y_batch.size(0)\n",
    "                is_correct = (torch.argmax(pred, dim=1) == y_batch).float()\n",
    "                accuracy_hist_valid[epoch] += is_correct.sum()\n",
    "        loss_hist_valid[epoch] /= len(valid_dl.dataset)\n",
    "        accuracy_hist_valid[epoch] /= len(valid_dl.dataset)\n",
    "        print(f'Epoch {epoch+1} accuracy: {accuracy_hist_train[epoch]:.4f} 'f'val_accuracy: {accuracy_hist_valid[epoch]:.4f}')\n",
    "    return loss_hist_train.cpu(), loss_hist_valid.cpu(), accuracy_hist_train.cpu(), accuracy_hist_valid.cpu()\n",
    "\n",
    "torch.manual_seed(1)\n",
    "num_epochs = 5\n",
    "hist = train(model, num_epochs, train_dl, valid_dl, device)\n",
    "torch.save(model.state_dict(), 'modelo.pth')"
   ]
  },
  {
   "cell_type": "code",
   "execution_count": 10,
   "metadata": {},
   "outputs": [
    {
     "data": {
      "image/png": "[encoded data removed]",
      "text/plain": [
       "<Figure size 1200x400 with 2 Axes>"
      ]
     },
     "metadata": {},
     "output_type": "display_data"
    }
   ],
   "source": [
    "#Librerias\n",
    "import matplotlib.pyplot as plt\n",
    "\n",
    "x_arr = np.arange(len(hist[0])) + 1\n",
    "fig = plt.figure(figsize= (12, 4))\n",
    "ax = fig.add_subplot(1, 2, 1)\n",
    "ax.plot(x_arr, hist[0], '-o', label='Train loss')\n",
    "ax.plot(x_arr, hist[1], '--<', label='Validation loss')\n",
    "ax.legend(fontsize=15)\n",
    "ax = fig.add_subplot(1, 2, 2)\n",
    "ax.plot(x_arr, hist[2], '-o', label='Train acc.')\n",
    "ax.plot(x_arr, hist[3], '--<', label='Validation acc.')\n",
    "ax.legend(fontsize=15)\n",
    "ax.set_xlabel('Epoch', size=15)\n",
    "ax.set_ylabel('Accuracy', size=15)\n",
    "plt.show()"
   ]
  },
  {
   "attachments": {},
   "cell_type": "markdown",
   "metadata": {},
   "source": [
    "NO HAY OVERFITTING O UNDERFITTINGTTTTTTT"
   ]
  },
  {
   "attachments": {},
   "cell_type": "markdown",
   "metadata": {},
   "source": [
    "1.3 Considerando el conjunto de validacion, calcular y mostrar la matriz de confusion del modelo obtenido en el item anterio. Determinar tambien las siguientes metricas de rendimiento: Exactitud (Acc), Tasa de Verdaderos Positivos (TPR), Tasa de Falsos Positivos (FPR), Coeficiente Kappa de\n",
    "Cohen (K) y Coeficiente de Correlacion de Matthews (MCC)."
   ]
  },
  {
   "cell_type": "code",
   "execution_count": 16,
   "metadata": {},
   "outputs": [
    {
     "name": "stdout",
     "output_type": "stream",
     "text": [
      "----- Matriz de Confusion ----- \n"
     ]
    },
    {
     "data": {
      "image/png": "[encoded data removed]",
      "text/plain": [
       "<Figure size 250x250 with 1 Axes>"
      ]
     },
     "metadata": {},
     "output_type": "display_data"
    },
    {
     "name": "stdout",
     "output_type": "stream",
     "text": [
      "-------------------------------\n",
      "Metricas:\n",
      "Accuracy: 0.992\n",
      "TPR: 0.987\n",
      "FPR: 0.003\n",
      "CohenKappaScore: 0.984\n",
      "MCC: 0.984\n"
     ]
    }
   ],
   "source": [
    "#librerias\n",
    "from sklearn.metrics import accuracy_score, matthews_corrcoef, cohen_kappa_score,confusion_matrix\n",
    "from sklearn.metrics import confusion_matrix\n",
    "#prediccion del modelo con el conjunto 'valid_dl'\n",
    "model.eval()\n",
    "_pred = []\n",
    "_val = []\n",
    "with torch.no_grad():\n",
    "    for x, y in valid_dl:\n",
    "        x = x.to(device)\n",
    "        #Se obtene las predicciones del modelo entregandole x del conjunto 'valid_dl'\n",
    "        pred = model(x)\n",
    "        #El conjunto trabaja con batch size de 128, todos los resultados se acoplan a una lista de tensores, esto se aplica para \n",
    "        #el conjunto original y el predicho\n",
    "        _pred.extend(pred)\n",
    "        _val.extend(y)\n",
    "#Funcion que toma los tensores creados anteriormente y los tranfroma a una lista binaria\n",
    "pred = []\n",
    "val = []\n",
    "for tensor1,tensor2 in zip(_pred,_val):\n",
    "    #La pocision del valor maximo indica a la clase que pertenece\n",
    "    tensor1 = torch.argmax(tensor1)\n",
    "    tensor1 = tensor1.to('cpu')\n",
    "    tensor2 = tensor2.to('cpu')\n",
    "    valu1 = tensor1.item()\n",
    "    valu2 = tensor2.tolist()\n",
    "    pred.append(valu1)\n",
    "    val.append(valu2)\n",
    "#Matriz de confucion y metricas\n",
    "def confusion_matrix_and_metrics(y_val,y_pred):\n",
    "    #matriz de confusion\n",
    "    confmat = confusion_matrix(y_val,y_pred)\n",
    "    #Ploteo matriz de confusion\n",
    "    fig, ax = plt.subplots(figsize=(2.5, 2.5))\n",
    "    ax.matshow(confmat, cmap=plt.cm.Blues, alpha=0.3)\n",
    "    for i in range(confmat.shape[0]):\n",
    "        for j in range(confmat.shape[1]):\n",
    "            ax.text(x=j, y=i, s=confmat[i, j], va='center', ha='center')\n",
    "    plt.xlabel('Predicted label')\n",
    "    plt.ylabel('True label')\n",
    "    plt.tight_layout()\n",
    "    #plt.savefig('images/06_09.png', dpi=300)\n",
    "    plt.show()\n",
    "    #metricas \n",
    "    #true negatives is c(0,0), false negatives is c(1,0), true positives is c(1,1) and false positives is c(0,1)\n",
    "    true_negative = confmat[0][0]\n",
    "    false_negative = confmat[1][0]\n",
    "    true_positives = confmat[1][1]\n",
    "    false_positives = confmat[0][1]\n",
    "    #print(confmat)\n",
    "    #Accuracy\n",
    "    score = accuracy_score(y_val, y_pred)\n",
    "    #Tasa de Verdaderos Positivos\n",
    "    tpr = true_positives/(false_negative + true_positives)\n",
    "    #Tasa de Falsos Positivos\n",
    "    fpr = false_positives/(false_positives + true_negative)\n",
    "    #Coeficiente Kappa de Cohen    \n",
    "    k = cohen_kappa_score(y_val, y_pred)\n",
    "    #Coeficiente de Correlacion de Matthews \n",
    "    mcc = matthews_corrcoef(y_val, y_pred)\n",
    "    print('-------------------------------')\n",
    "    print('Metricas:')\n",
    "    print('Accuracy: %.3f' %(np.mean(score)))\n",
    "    print('TPR: %.3f' % (np.mean(tpr)))\n",
    "    print('FPR: %.3f' % (np.mean(fpr)))\n",
    "    print('CohenKappaScore: %.3f' % (np.mean(k)))\n",
    "    print('MCC: %.3f' % (np.mean(mcc)))\n",
    "    return\n",
    "print('----- Matriz de Confusion ----- ')\n",
    "confusion_matrix_and_metrics(val,pred)\n"
   ]
  },
  {
   "attachments": {},
   "cell_type": "markdown",
   "metadata": {},
   "source": [
    "1.4 Por cada capa del modelo, calcular la cantidad de parametros (pesos). Agregar el detalle del calculo."
   ]
  },
  {
   "attachments": {},
   "cell_type": "markdown",
   "metadata": {},
   "source": [
    "Capa Conv1: A la imgen se le aplican 32 kernels (out_channels) de tamaño 5x5 (kernel size), imagen RGB que corresponde a dimension 3 (in_channels).\n",
    "Calculo pesos: 32 x 5x5 x 3 + 32 = 2432 pesos\n",
    "\n",
    "Capa Conv2: se aplican 64 kernels (out_channels) de tamaño 5x5 (kernel size) y 32 pesos de la capa anterior.\n",
    "Calculo pesos: 64 x 5x5 x 32 + 64 = 51264 pesos\n",
    "\n",
    "Capa Flatten: reduce la cantidad de pesos de la capa anterior a la cantidad de pesos que pide la capa siguente (fc1), en este caso se reducen a 5184 pesos\n",
    "\n",
    "Capa fc1(Linear): 5184 pesos de entrada por 1024 pesos de salida.\n",
    "Calculo pesos: 5184 x 1024 + 1024 = 5309440 pesos\n",
    "\n",
    "Capa fc2(Linear): 1024 pesos de entrada por 2 pesos de salida.\n",
    "Calculo pesos: 1024 x 2 + 2 = 2050 pesos"
   ]
  },
  {
   "attachments": {},
   "cell_type": "markdown",
   "metadata": {},
   "source": [
    "### Pregunta 2\n",
    "La Base de Datos Escritura arabe contiene imagenes de los simbolos arabes que representan las letras del abecedario. Cada muestra en los directorios Train y Test es una imagen etiquetada. Esta etiqueta viene dada en el nombre del archivo. Por ejemplo, la primera imagen del conjunto Test tiene el nombre id_1_label_1 y pertenece a la clase con etiqueta 1, la segunda imagen del conjunto Test tiene el nombre id_2_label_1 y tambien pertenece a la clase con etiqueta 1; la tercera imagen tiene el nombre id_3_label_2 y pertenece a la clase con etiqueta. Con esta informacion, siguiendo las buenas practicas aprendidas en el curso y utilizando Pytorch.\n",
    "\n",
    "2.1. Leer las imagenes desde los directorios Train y Test y almacenarlas como muestras en un DataFrame de Pandas (uno por carpeta). Ademas, generar una columna en cada DataFrame que contenga la etiqueta de clase asociada a cada muestra. ¿Cuantas clases distintas existen? ¿Cuantos datos hay por clase en el conjunto Train y en el conjunto Test?\n",
    "\n"
   ]
  },
  {
   "cell_type": "code",
   "execution_count": 63,
   "metadata": {},
   "outputs": [],
   "source": [
    "#Librerias\n",
    "import pandas as pd\n",
    "#Funcion\n",
    "def ReadFolders(root):\n",
    "    #Ruta folder 'Concrete'\n",
    "    img_path = []\n",
    "    img_class = []\n",
    "    #Folders dentro de la ruta\n",
    "    for class_dir in os.listdir(root):\n",
    "        #Ruta folders\n",
    "        class_dir_path = os.path.join(root, class_dir)\n",
    "        #Ruta de las imagenes dentro de los folders\n",
    "        elems = [os.path.join(class_dir_path, x) for x in os.listdir(class_dir_path)]\n",
    "        #Se agregan a la lista de rutas\n",
    "        img_path.extend(elems)\n",
    "        #Clases dentro de las carpetas\n",
    "        if class_dir == os.listdir(root)[0]:\n",
    "            #Se considera claso con clase de un digito y clases de dos digitos\n",
    "            img_class.extend([(int(x[-5])-1) if x[-6] == '_' else (int(x[-6:-4])-1) for x in elems])\n",
    "    return img_path, img_class\n",
    "#ruta y clase\n",
    "img_train_path, img_train_class = ReadFolders(root='Train Images 13440x32x32')\n",
    "img_test_path, img_test_class = ReadFolders(root='Test Images 3360x32x32')\n",
    "#DataFrames\n",
    "df_train = pd.DataFrame({'paths': img_train_path, 'class': img_train_class})\n",
    "df_test = pd.DataFrame({'paths': img_test_path, 'class': img_test_class})"
   ]
  },
  {
   "cell_type": "code",
   "execution_count": 64,
   "metadata": {},
   "outputs": [
    {
     "name": "stdout",
     "output_type": "stream",
     "text": [
      "Existen 28 tipos de clases, asignadas con numeros del 1 al 28 y con 480 muetras por clase\n",
      "Considerando el total de los datos como la suma entre \"train\" y \"test\", el conjunto \"train\" corresponte al 80% de los datos totales\n",
      "class\n",
      "0     480\n",
      "1     480\n",
      "2     480\n",
      "3     480\n",
      "4     480\n",
      "5     480\n",
      "6     480\n",
      "7     480\n",
      "8     480\n",
      "9     480\n",
      "10    480\n",
      "11    480\n",
      "12    480\n",
      "13    480\n",
      "14    480\n",
      "15    480\n",
      "16    480\n",
      "17    480\n",
      "18    480\n",
      "19    480\n",
      "20    480\n",
      "21    480\n",
      "22    480\n",
      "23    480\n",
      "24    480\n",
      "25    480\n",
      "26    480\n",
      "27    480\n",
      "Name: count, dtype: int64\n"
     ]
    },
    {
     "data": {
      "text/html": [
       "<div>\n",
       "<style scoped>\n",
       "    .dataframe tbody tr th:only-of-type {\n",
       "        vertical-align: middle;\n",
       "    }\n",
       "\n",
       "    .dataframe tbody tr th {\n",
       "        vertical-align: top;\n",
       "    }\n",
       "\n",
       "    .dataframe thead th {\n",
       "        text-align: right;\n",
       "    }\n",
       "</style>\n",
       "<table border=\"1\" class=\"dataframe\">\n",
       "  <thead>\n",
       "    <tr style=\"text-align: right;\">\n",
       "      <th></th>\n",
       "      <th>paths</th>\n",
       "      <th>class</th>\n",
       "    </tr>\n",
       "  </thead>\n",
       "  <tbody>\n",
       "    <tr>\n",
       "      <th>0</th>\n",
       "      <td>Train Images 13440x32x32\\train\\id_10000_label_...</td>\n",
       "      <td>17</td>\n",
       "    </tr>\n",
       "    <tr>\n",
       "      <th>1</th>\n",
       "      <td>Train Images 13440x32x32\\train\\id_10001_label_...</td>\n",
       "      <td>18</td>\n",
       "    </tr>\n",
       "    <tr>\n",
       "      <th>2</th>\n",
       "      <td>Train Images 13440x32x32\\train\\id_10002_label_...</td>\n",
       "      <td>18</td>\n",
       "    </tr>\n",
       "    <tr>\n",
       "      <th>3</th>\n",
       "      <td>Train Images 13440x32x32\\train\\id_10003_label_...</td>\n",
       "      <td>18</td>\n",
       "    </tr>\n",
       "    <tr>\n",
       "      <th>4</th>\n",
       "      <td>Train Images 13440x32x32\\train\\id_10004_label_...</td>\n",
       "      <td>18</td>\n",
       "    </tr>\n",
       "    <tr>\n",
       "      <th>...</th>\n",
       "      <td>...</td>\n",
       "      <td>...</td>\n",
       "    </tr>\n",
       "    <tr>\n",
       "      <th>13435</th>\n",
       "      <td>Train Images 13440x32x32\\train\\id_9998_label_1...</td>\n",
       "      <td>17</td>\n",
       "    </tr>\n",
       "    <tr>\n",
       "      <th>13436</th>\n",
       "      <td>Train Images 13440x32x32\\train\\id_9999_label_1...</td>\n",
       "      <td>17</td>\n",
       "    </tr>\n",
       "    <tr>\n",
       "      <th>13437</th>\n",
       "      <td>Train Images 13440x32x32\\train\\id_999_label_13...</td>\n",
       "      <td>12</td>\n",
       "    </tr>\n",
       "    <tr>\n",
       "      <th>13438</th>\n",
       "      <td>Train Images 13440x32x32\\train\\id_99_label_13.png</td>\n",
       "      <td>12</td>\n",
       "    </tr>\n",
       "    <tr>\n",
       "      <th>13439</th>\n",
       "      <td>Train Images 13440x32x32\\train\\id_9_label_2.png</td>\n",
       "      <td>1</td>\n",
       "    </tr>\n",
       "  </tbody>\n",
       "</table>\n",
       "<p>13440 rows × 2 columns</p>\n",
       "</div>"
      ],
      "text/plain": [
       "                                                   paths  class\n",
       "0      Train Images 13440x32x32\\train\\id_10000_label_...     17\n",
       "1      Train Images 13440x32x32\\train\\id_10001_label_...     18\n",
       "2      Train Images 13440x32x32\\train\\id_10002_label_...     18\n",
       "3      Train Images 13440x32x32\\train\\id_10003_label_...     18\n",
       "4      Train Images 13440x32x32\\train\\id_10004_label_...     18\n",
       "...                                                  ...    ...\n",
       "13435  Train Images 13440x32x32\\train\\id_9998_label_1...     17\n",
       "13436  Train Images 13440x32x32\\train\\id_9999_label_1...     17\n",
       "13437  Train Images 13440x32x32\\train\\id_999_label_13...     12\n",
       "13438  Train Images 13440x32x32\\train\\id_99_label_13.png     12\n",
       "13439    Train Images 13440x32x32\\train\\id_9_label_2.png      1\n",
       "\n",
       "[13440 rows x 2 columns]"
      ]
     },
     "execution_count": 64,
     "metadata": {},
     "output_type": "execute_result"
    }
   ],
   "source": [
    "print(f'Existen {len(df_train[\"class\"].value_counts())} tipos de clases, asignadas con numeros del 1 al 28 y con 480 muetras por clase')\n",
    "print('Considerando el total de los datos como la suma entre \"train\" y \"test\", el conjunto \"train\" corresponte al 80% de los datos totales')\n",
    "print(df_train['class'].value_counts().sort_index())\n",
    "df_train"
   ]
  },
  {
   "cell_type": "code",
   "execution_count": 65,
   "metadata": {},
   "outputs": [
    {
     "name": "stdout",
     "output_type": "stream",
     "text": [
      "Existen 28 tipos de clases, asignadas con numeros del 1 al 28 y con 120 muetras por clase\n",
      "Considerando el total de los datos como la suma entre \"train\" y \"test\", el conjunto \"test\" corresponte al 20% de los datos totales\n",
      "class\n",
      "0     120\n",
      "1     120\n",
      "2     120\n",
      "3     120\n",
      "4     120\n",
      "5     120\n",
      "6     120\n",
      "7     120\n",
      "8     120\n",
      "9     120\n",
      "10    120\n",
      "11    120\n",
      "12    120\n",
      "13    120\n",
      "14    120\n",
      "15    120\n",
      "16    120\n",
      "17    120\n",
      "18    120\n",
      "19    120\n",
      "20    120\n",
      "21    120\n",
      "22    120\n",
      "23    120\n",
      "24    120\n",
      "25    120\n",
      "26    120\n",
      "27    120\n",
      "Name: count, dtype: int64\n"
     ]
    },
    {
     "data": {
      "text/html": [
       "<div>\n",
       "<style scoped>\n",
       "    .dataframe tbody tr th:only-of-type {\n",
       "        vertical-align: middle;\n",
       "    }\n",
       "\n",
       "    .dataframe tbody tr th {\n",
       "        vertical-align: top;\n",
       "    }\n",
       "\n",
       "    .dataframe thead th {\n",
       "        text-align: right;\n",
       "    }\n",
       "</style>\n",
       "<table border=\"1\" class=\"dataframe\">\n",
       "  <thead>\n",
       "    <tr style=\"text-align: right;\">\n",
       "      <th></th>\n",
       "      <th>paths</th>\n",
       "      <th>class</th>\n",
       "    </tr>\n",
       "  </thead>\n",
       "  <tbody>\n",
       "    <tr>\n",
       "      <th>0</th>\n",
       "      <td>Test Images 3360x32x32\\test\\id_1000_label_24.png</td>\n",
       "      <td>23</td>\n",
       "    </tr>\n",
       "    <tr>\n",
       "      <th>1</th>\n",
       "      <td>Test Images 3360x32x32\\test\\id_1001_label_25.png</td>\n",
       "      <td>24</td>\n",
       "    </tr>\n",
       "    <tr>\n",
       "      <th>2</th>\n",
       "      <td>Test Images 3360x32x32\\test\\id_1002_label_25.png</td>\n",
       "      <td>24</td>\n",
       "    </tr>\n",
       "    <tr>\n",
       "      <th>3</th>\n",
       "      <td>Test Images 3360x32x32\\test\\id_1003_label_26.png</td>\n",
       "      <td>25</td>\n",
       "    </tr>\n",
       "    <tr>\n",
       "      <th>4</th>\n",
       "      <td>Test Images 3360x32x32\\test\\id_1004_label_26.png</td>\n",
       "      <td>25</td>\n",
       "    </tr>\n",
       "    <tr>\n",
       "      <th>...</th>\n",
       "      <td>...</td>\n",
       "      <td>...</td>\n",
       "    </tr>\n",
       "    <tr>\n",
       "      <th>3355</th>\n",
       "      <td>Test Images 3360x32x32\\test\\id_997_label_23.png</td>\n",
       "      <td>22</td>\n",
       "    </tr>\n",
       "    <tr>\n",
       "      <th>3356</th>\n",
       "      <td>Test Images 3360x32x32\\test\\id_998_label_23.png</td>\n",
       "      <td>22</td>\n",
       "    </tr>\n",
       "    <tr>\n",
       "      <th>3357</th>\n",
       "      <td>Test Images 3360x32x32\\test\\id_999_label_24.png</td>\n",
       "      <td>23</td>\n",
       "    </tr>\n",
       "    <tr>\n",
       "      <th>3358</th>\n",
       "      <td>Test Images 3360x32x32\\test\\id_99_label_22.png</td>\n",
       "      <td>21</td>\n",
       "    </tr>\n",
       "    <tr>\n",
       "      <th>3359</th>\n",
       "      <td>Test Images 3360x32x32\\test\\id_9_label_5.png</td>\n",
       "      <td>4</td>\n",
       "    </tr>\n",
       "  </tbody>\n",
       "</table>\n",
       "<p>3360 rows × 2 columns</p>\n",
       "</div>"
      ],
      "text/plain": [
       "                                                 paths  class\n",
       "0     Test Images 3360x32x32\\test\\id_1000_label_24.png     23\n",
       "1     Test Images 3360x32x32\\test\\id_1001_label_25.png     24\n",
       "2     Test Images 3360x32x32\\test\\id_1002_label_25.png     24\n",
       "3     Test Images 3360x32x32\\test\\id_1003_label_26.png     25\n",
       "4     Test Images 3360x32x32\\test\\id_1004_label_26.png     25\n",
       "...                                                ...    ...\n",
       "3355   Test Images 3360x32x32\\test\\id_997_label_23.png     22\n",
       "3356   Test Images 3360x32x32\\test\\id_998_label_23.png     22\n",
       "3357   Test Images 3360x32x32\\test\\id_999_label_24.png     23\n",
       "3358    Test Images 3360x32x32\\test\\id_99_label_22.png     21\n",
       "3359      Test Images 3360x32x32\\test\\id_9_label_5.png      4\n",
       "\n",
       "[3360 rows x 2 columns]"
      ]
     },
     "execution_count": 65,
     "metadata": {},
     "output_type": "execute_result"
    }
   ],
   "source": [
    "print(f'Existen {len(df_test[\"class\"].value_counts())} tipos de clases, asignadas con numeros del 1 al 28 y con 120 muetras por clase')\n",
    "print('Considerando el total de los datos como la suma entre \"train\" y \"test\", el conjunto \"test\" corresponte al 20% de los datos totales')\n",
    "print(df_test['class'].value_counts().sort_index())\n",
    "df_test"
   ]
  },
  {
   "attachments": {},
   "cell_type": "markdown",
   "metadata": {},
   "source": [
    "2.2 A partir de los datos del conjunto Train, ajustar un modelo basado en una Red Neuronal Recurrente (RNN) para clasificar los datos, considerando una separacion del conjunto Train en un conjunto de entrenamiento, con el 70% de los datos, y un conjunto de validacion con los datos restantes. Mostrar las curvas de aprendizaje del modelo durante el entrenamiento (para los conjuntos de entrenamiento y de validaci on), considerando la Funcion de Perdida y la Exactitud. ¿Existe sobreajuste o bajo ajuste?"
   ]
  },
  {
   "cell_type": "code",
   "execution_count": 95,
   "metadata": {},
   "outputs": [],
   "source": [
    "#Data size\n",
    "img_path_idxs = list(range(len(img_train_path)))\n",
    "#Indices de los archivos que seran para el entrenamiento (70%) y validacion (30%)\n",
    "x_train, x_val, y_train, y_val = train_test_split(img_path_idxs, img_train_class, test_size=0.3, random_state=0, stratify=img_train_class)\n",
    "#Dataset\n",
    "train_ds = CustomImageDataset(img_train_path, img_train_class, x_train)\n",
    "valid_ds = CustomImageDataset(img_train_path, img_train_class, x_val)\n",
    "#DataLoader\n",
    "train_dl = DataLoader(train_ds, batch_size=batch_size, shuffle = True)\n",
    "valid_dl = DataLoader(valid_ds,batch_size=batch_size, shuffle = True)"
   ]
  },
  {
   "cell_type": "code",
   "execution_count": 96,
   "metadata": {},
   "outputs": [
    {
     "name": "stdout",
     "output_type": "stream",
     "text": [
      "32x32 pixeles\n"
     ]
    }
   ],
   "source": [
    "#Tamaxo de las imagenes\n",
    "from PIL import Image\n",
    "# Ruta de la imagen\n",
    "ruta_imagen = img_train_path[0]\n",
    "# Cargar la imagen utilizando PIL\n",
    "imagen = Image.open(ruta_imagen)\n",
    "# Obtener las dimensiones de la imagen\n",
    "ancho, alto = imagen.size\n",
    "# Imprimir las dimensiones de la imagen\n",
    "print(f'{ancho}x{alto} pixeles')"
   ]
  },
  {
   "cell_type": "code",
   "execution_count": 97,
   "metadata": {},
   "outputs": [
    {
     "name": "stdout",
     "output_type": "stream",
     "text": [
      "Esta implementación utilizará cuda para el entrenamiento e inferencia del modelo\n"
     ]
    }
   ],
   "source": [
    "device = torch.device('cuda' if torch.cuda.is_available() else 'cpu')\n",
    "print(f'Esta implementación utilizará {device} para el entrenamiento e inferencia del modelo')"
   ]
  },
  {
   "cell_type": "code",
   "execution_count": 158,
   "metadata": {},
   "outputs": [
    {
     "data": {
      "text/plain": [
       "CustomRNN(\n",
       "  (rnn1): RNN(32, 512, num_layers=3, batch_first=True)\n",
       "  (rnn2): RNN(512, 512, num_layers=3, batch_first=True)\n",
       "  (fc): Linear(in_features=512, out_features=28, bias=True)\n",
       ")"
      ]
     },
     "execution_count": 158,
     "metadata": {},
     "output_type": "execute_result"
    }
   ],
   "source": [
    "#longitud de la imagen de entrada\n",
    "sequence_length = 32\n",
    "input_size = 32\n",
    "#numero de neuronas ocultas en cada capa\n",
    "hidden_size = 512\n",
    "#numero de capas recurrentes apiladas\n",
    "num_layers = 3\n",
    "#numero de clases\n",
    "num_classes = 28\n",
    "\n",
    "class CustomRNN(nn.Module):\n",
    "    def __init__(self, input_size: int, hidden_size: int, num_layers: int,num_classes: int, sequence_length: int):\n",
    "        super(CustomRNN, self).__init__()\n",
    "        # Hiperparámetros\n",
    "        self.input_size = input_size\n",
    "        self.hidden_size = hidden_size\n",
    "        self.num_layers = num_layers\n",
    "        self.num_classes = num_classes\n",
    "        self.sequence_length = sequence_length\n",
    "        # Capas\n",
    "        self.rnn1 = nn.RNN(input_size, hidden_size, num_layers,batch_first=True)\n",
    "        self.rnn2 = nn.RNN(hidden_size, hidden_size, num_layers,batch_first=True)\n",
    "        self.fc = nn.Linear(hidden_size, num_classes)\n",
    "    def forward(self, x):\n",
    "        x = x.reshape(-1, self.sequence_length, self.input_size)\n",
    "        out, hidden = self.rnn1(x)\n",
    "        out, hidden = self.rnn2(out)\n",
    "        out = self.fc(out[:, -1, :])\n",
    "        return out\n",
    "RNNmodel = CustomRNN(input_size, hidden_size, num_layers, num_classes,sequence_length)\n",
    "RNNmodel.to(device)"
   ]
  },
  {
   "cell_type": "code",
   "execution_count": 154,
   "metadata": {},
   "outputs": [
    {
     "data": {
      "text/plain": [
       "==========================================================================================\n",
       "Layer (type:depth-idx)                   Output Shape              Param #\n",
       "==========================================================================================\n",
       "CustomRNN                                [128, 28]                 --\n",
       "├─RNN: 1-1                               [128, 32, 512]            279,552\n",
       "├─RNN: 1-2                               [128, 32, 512]            525,312\n",
       "├─Linear: 1-3                            [128, 28]                 14,364\n",
       "==========================================================================================\n",
       "Total params: 819,228\n",
       "Trainable params: 819,228\n",
       "Non-trainable params: 0\n",
       "Total mult-adds (G): 3.30\n",
       "==========================================================================================\n",
       "Input size (MB): 0.52\n",
       "Forward/backward pass size (MB): 33.58\n",
       "Params size (MB): 3.28\n",
       "Estimated Total Size (MB): 37.38\n",
       "=========================================================================================="
      ]
     },
     "execution_count": 154,
     "metadata": {},
     "output_type": "execute_result"
    }
   ],
   "source": [
    "from torchinfo import summary\n",
    "summary(RNNmodel,input_data= torch.randint(0, 255, (batch_size, 1, 32, 32))/ 255, col_names=[\"output_size\", \"num_params\"], verbose= 0,device= device)"
   ]
  },
  {
   "cell_type": "code",
   "execution_count": 159,
   "metadata": {},
   "outputs": [],
   "source": [
    "lr = 0.0001\n",
    "num_epochs = 20\n",
    "loss_fn = nn.CrossEntropyLoss()\n",
    "optimizer = torch.optim.Adam(RNNmodel.parameters(), lr= .0001)"
   ]
  },
  {
   "cell_type": "code",
   "execution_count": 160,
   "metadata": {},
   "outputs": [
    {
     "data": {
      "application/vnd.jupyter.widget-view+json": {
       "model_id": "242c39f998ce45598e973af059b9f811",
       "version_major": 2,
       "version_minor": 0
      },
      "text/plain": [
       "  0%|          | 0/74 [00:00<?, ?batch/s]"
      ]
     },
     "metadata": {},
     "output_type": "display_data"
    },
    {
     "data": {
      "application/vnd.jupyter.widget-view+json": {
       "model_id": "a1eda06e815f4ee3ab4af976d05bb573",
       "version_major": 2,
       "version_minor": 0
      },
      "text/plain": [
       "  0%|          | 0/32 [00:00<?, ?batch/s]"
      ]
     },
     "metadata": {},
     "output_type": "display_data"
    },
    {
     "data": {
      "application/vnd.jupyter.widget-view+json": {
       "model_id": "258f08eb46374e60876c73f3537401a6",
       "version_major": 2,
       "version_minor": 0
      },
      "text/plain": [
       "  0%|          | 0/74 [00:00<?, ?batch/s]"
      ]
     },
     "metadata": {},
     "output_type": "display_data"
    },
    {
     "data": {
      "application/vnd.jupyter.widget-view+json": {
       "model_id": "afa1c95f864c438b870daedebfa4fbbc",
       "version_major": 2,
       "version_minor": 0
      },
      "text/plain": [
       "  0%|          | 0/32 [00:00<?, ?batch/s]"
      ]
     },
     "metadata": {},
     "output_type": "display_data"
    },
    {
     "data": {
      "application/vnd.jupyter.widget-view+json": {
       "model_id": "dec1f3f5339047b6aacc44a76e279698",
       "version_major": 2,
       "version_minor": 0
      },
      "text/plain": [
       "  0%|          | 0/74 [00:00<?, ?batch/s]"
      ]
     },
     "metadata": {},
     "output_type": "display_data"
    },
    {
     "data": {
      "application/vnd.jupyter.widget-view+json": {
       "model_id": "a737e6e417564b34aab241ef9e8b87d5",
       "version_major": 2,
       "version_minor": 0
      },
      "text/plain": [
       "  0%|          | 0/32 [00:00<?, ?batch/s]"
      ]
     },
     "metadata": {},
     "output_type": "display_data"
    },
    {
     "data": {
      "application/vnd.jupyter.widget-view+json": {
       "model_id": "414287f88eda4aabb84f705e1035f290",
       "version_major": 2,
       "version_minor": 0
      },
      "text/plain": [
       "  0%|          | 0/74 [00:00<?, ?batch/s]"
      ]
     },
     "metadata": {},
     "output_type": "display_data"
    },
    {
     "data": {
      "application/vnd.jupyter.widget-view+json": {
       "model_id": "4e084a37a3644562a690e537c8862e5c",
       "version_major": 2,
       "version_minor": 0
      },
      "text/plain": [
       "  0%|          | 0/32 [00:00<?, ?batch/s]"
      ]
     },
     "metadata": {},
     "output_type": "display_data"
    },
    {
     "data": {
      "application/vnd.jupyter.widget-view+json": {
       "model_id": "58ab51bf956849e889f9940c9c5dcddf",
       "version_major": 2,
       "version_minor": 0
      },
      "text/plain": [
       "  0%|          | 0/74 [00:00<?, ?batch/s]"
      ]
     },
     "metadata": {},
     "output_type": "display_data"
    },
    {
     "data": {
      "application/vnd.jupyter.widget-view+json": {
       "model_id": "5e0d41c468ec4387bf1feefb8a901e66",
       "version_major": 2,
       "version_minor": 0
      },
      "text/plain": [
       "  0%|          | 0/32 [00:00<?, ?batch/s]"
      ]
     },
     "metadata": {},
     "output_type": "display_data"
    },
    {
     "data": {
      "application/vnd.jupyter.widget-view+json": {
       "model_id": "af9908df33dc4c24a9d8cc9fbae6c03b",
       "version_major": 2,
       "version_minor": 0
      },
      "text/plain": [
       "  0%|          | 0/74 [00:00<?, ?batch/s]"
      ]
     },
     "metadata": {},
     "output_type": "display_data"
    },
    {
     "data": {
      "application/vnd.jupyter.widget-view+json": {
       "model_id": "beecb368c80a435d82af27aa37cb3cf7",
       "version_major": 2,
       "version_minor": 0
      },
      "text/plain": [
       "  0%|          | 0/32 [00:00<?, ?batch/s]"
      ]
     },
     "metadata": {},
     "output_type": "display_data"
    },
    {
     "data": {
      "application/vnd.jupyter.widget-view+json": {
       "model_id": "177ecdd7cf55417598f9b88251ddc6d8",
       "version_major": 2,
       "version_minor": 0
      },
      "text/plain": [
       "  0%|          | 0/74 [00:00<?, ?batch/s]"
      ]
     },
     "metadata": {},
     "output_type": "display_data"
    },
    {
     "data": {
      "application/vnd.jupyter.widget-view+json": {
       "model_id": "5c3ce0c5213541679abd01a15b3224d8",
       "version_major": 2,
       "version_minor": 0
      },
      "text/plain": [
       "  0%|          | 0/32 [00:00<?, ?batch/s]"
      ]
     },
     "metadata": {},
     "output_type": "display_data"
    },
    {
     "data": {
      "application/vnd.jupyter.widget-view+json": {
       "model_id": "24bccbd72eb849bba6e5459bc5eb67f4",
       "version_major": 2,
       "version_minor": 0
      },
      "text/plain": [
       "  0%|          | 0/74 [00:00<?, ?batch/s]"
      ]
     },
     "metadata": {},
     "output_type": "display_data"
    },
    {
     "data": {
      "application/vnd.jupyter.widget-view+json": {
       "model_id": "f71431e6a05242a39a006f2e58834aad",
       "version_major": 2,
       "version_minor": 0
      },
      "text/plain": [
       "  0%|          | 0/32 [00:00<?, ?batch/s]"
      ]
     },
     "metadata": {},
     "output_type": "display_data"
    },
    {
     "data": {
      "application/vnd.jupyter.widget-view+json": {
       "model_id": "b23bd97af3884787a1192a3727a48f6d",
       "version_major": 2,
       "version_minor": 0
      },
      "text/plain": [
       "  0%|          | 0/74 [00:00<?, ?batch/s]"
      ]
     },
     "metadata": {},
     "output_type": "display_data"
    },
    {
     "data": {
      "application/vnd.jupyter.widget-view+json": {
       "model_id": "b0d4a31907014778b5626061e66747ad",
       "version_major": 2,
       "version_minor": 0
      },
      "text/plain": [
       "  0%|          | 0/32 [00:00<?, ?batch/s]"
      ]
     },
     "metadata": {},
     "output_type": "display_data"
    },
    {
     "data": {
      "application/vnd.jupyter.widget-view+json": {
       "model_id": "4380782fffcc47968d4b8ace4a356f0e",
       "version_major": 2,
       "version_minor": 0
      },
      "text/plain": [
       "  0%|          | 0/74 [00:00<?, ?batch/s]"
      ]
     },
     "metadata": {},
     "output_type": "display_data"
    },
    {
     "data": {
      "application/vnd.jupyter.widget-view+json": {
       "model_id": "2ca4644912964c7a9848e6f351cddb8f",
       "version_major": 2,
       "version_minor": 0
      },
      "text/plain": [
       "  0%|          | 0/32 [00:00<?, ?batch/s]"
      ]
     },
     "metadata": {},
     "output_type": "display_data"
    },
    {
     "data": {
      "application/vnd.jupyter.widget-view+json": {
       "model_id": "9a6e04d935ac4b93b3506de27c86ad4b",
       "version_major": 2,
       "version_minor": 0
      },
      "text/plain": [
       "  0%|          | 0/74 [00:00<?, ?batch/s]"
      ]
     },
     "metadata": {},
     "output_type": "display_data"
    },
    {
     "data": {
      "application/vnd.jupyter.widget-view+json": {
       "model_id": "193e00eca156499982931e0eb7f8e1c0",
       "version_major": 2,
       "version_minor": 0
      },
      "text/plain": [
       "  0%|          | 0/32 [00:00<?, ?batch/s]"
      ]
     },
     "metadata": {},
     "output_type": "display_data"
    },
    {
     "data": {
      "application/vnd.jupyter.widget-view+json": {
       "model_id": "fe026dde10ed4b6cb087fbfb0b8ce439",
       "version_major": 2,
       "version_minor": 0
      },
      "text/plain": [
       "  0%|          | 0/74 [00:00<?, ?batch/s]"
      ]
     },
     "metadata": {},
     "output_type": "display_data"
    },
    {
     "data": {
      "application/vnd.jupyter.widget-view+json": {
       "model_id": "db45042db636409c98e72020eecf9128",
       "version_major": 2,
       "version_minor": 0
      },
      "text/plain": [
       "  0%|          | 0/32 [00:00<?, ?batch/s]"
      ]
     },
     "metadata": {},
     "output_type": "display_data"
    },
    {
     "data": {
      "application/vnd.jupyter.widget-view+json": {
       "model_id": "1ebfbc61e904430db90f43a0e3837146",
       "version_major": 2,
       "version_minor": 0
      },
      "text/plain": [
       "  0%|          | 0/74 [00:00<?, ?batch/s]"
      ]
     },
     "metadata": {},
     "output_type": "display_data"
    },
    {
     "data": {
      "application/vnd.jupyter.widget-view+json": {
       "model_id": "858dce0d1b8848e2b5d82f0e612aac6a",
       "version_major": 2,
       "version_minor": 0
      },
      "text/plain": [
       "  0%|          | 0/32 [00:00<?, ?batch/s]"
      ]
     },
     "metadata": {},
     "output_type": "display_data"
    },
    {
     "data": {
      "application/vnd.jupyter.widget-view+json": {
       "model_id": "1ae7ce8c99f248aaadf6f188df03b063",
       "version_major": 2,
       "version_minor": 0
      },
      "text/plain": [
       "  0%|          | 0/74 [00:00<?, ?batch/s]"
      ]
     },
     "metadata": {},
     "output_type": "display_data"
    },
    {
     "data": {
      "application/vnd.jupyter.widget-view+json": {
       "model_id": "ad00768bbe3648bca92e2d964e841f84",
       "version_major": 2,
       "version_minor": 0
      },
      "text/plain": [
       "  0%|          | 0/32 [00:00<?, ?batch/s]"
      ]
     },
     "metadata": {},
     "output_type": "display_data"
    },
    {
     "data": {
      "application/vnd.jupyter.widget-view+json": {
       "model_id": "932673eb1a8a45b3936bc480ba9be596",
       "version_major": 2,
       "version_minor": 0
      },
      "text/plain": [
       "  0%|          | 0/74 [00:00<?, ?batch/s]"
      ]
     },
     "metadata": {},
     "output_type": "display_data"
    },
    {
     "data": {
      "application/vnd.jupyter.widget-view+json": {
       "model_id": "068aa9f86cb3412f984479255ed292d3",
       "version_major": 2,
       "version_minor": 0
      },
      "text/plain": [
       "  0%|          | 0/32 [00:00<?, ?batch/s]"
      ]
     },
     "metadata": {},
     "output_type": "display_data"
    },
    {
     "data": {
      "application/vnd.jupyter.widget-view+json": {
       "model_id": "70875595030f4f53893448dca46909f7",
       "version_major": 2,
       "version_minor": 0
      },
      "text/plain": [
       "  0%|          | 0/74 [00:00<?, ?batch/s]"
      ]
     },
     "metadata": {},
     "output_type": "display_data"
    },
    {
     "data": {
      "application/vnd.jupyter.widget-view+json": {
       "model_id": "49dc8aaa573d4c97bafdc99276cd3ec3",
       "version_major": 2,
       "version_minor": 0
      },
      "text/plain": [
       "  0%|          | 0/32 [00:00<?, ?batch/s]"
      ]
     },
     "metadata": {},
     "output_type": "display_data"
    },
    {
     "data": {
      "application/vnd.jupyter.widget-view+json": {
       "model_id": "9efe5644a3004e18bfd96cb656c1cd95",
       "version_major": 2,
       "version_minor": 0
      },
      "text/plain": [
       "  0%|          | 0/74 [00:00<?, ?batch/s]"
      ]
     },
     "metadata": {},
     "output_type": "display_data"
    },
    {
     "data": {
      "application/vnd.jupyter.widget-view+json": {
       "model_id": "4ae00827b1ed4d8b8a85c776b6d7986a",
       "version_major": 2,
       "version_minor": 0
      },
      "text/plain": [
       "  0%|          | 0/32 [00:00<?, ?batch/s]"
      ]
     },
     "metadata": {},
     "output_type": "display_data"
    },
    {
     "data": {
      "application/vnd.jupyter.widget-view+json": {
       "model_id": "7796e7d2160641e2af18da1e39b6f9d9",
       "version_major": 2,
       "version_minor": 0
      },
      "text/plain": [
       "  0%|          | 0/74 [00:00<?, ?batch/s]"
      ]
     },
     "metadata": {},
     "output_type": "display_data"
    },
    {
     "data": {
      "application/vnd.jupyter.widget-view+json": {
       "model_id": "de266e82a6404358b0fa1ef3d61cc5e0",
       "version_major": 2,
       "version_minor": 0
      },
      "text/plain": [
       "  0%|          | 0/32 [00:00<?, ?batch/s]"
      ]
     },
     "metadata": {},
     "output_type": "display_data"
    },
    {
     "data": {
      "application/vnd.jupyter.widget-view+json": {
       "model_id": "85813d71fb61401f92e83630f951319c",
       "version_major": 2,
       "version_minor": 0
      },
      "text/plain": [
       "  0%|          | 0/74 [00:00<?, ?batch/s]"
      ]
     },
     "metadata": {},
     "output_type": "display_data"
    },
    {
     "data": {
      "application/vnd.jupyter.widget-view+json": {
       "model_id": "453d19d41f1142f38187adadf6b45db1",
       "version_major": 2,
       "version_minor": 0
      },
      "text/plain": [
       "  0%|          | 0/32 [00:00<?, ?batch/s]"
      ]
     },
     "metadata": {},
     "output_type": "display_data"
    },
    {
     "data": {
      "application/vnd.jupyter.widget-view+json": {
       "model_id": "6be1d99f74ac44f395ba0e6720f6181d",
       "version_major": 2,
       "version_minor": 0
      },
      "text/plain": [
       "  0%|          | 0/74 [00:00<?, ?batch/s]"
      ]
     },
     "metadata": {},
     "output_type": "display_data"
    },
    {
     "data": {
      "application/vnd.jupyter.widget-view+json": {
       "model_id": "0172c08323cc4a9ba6377ed382605395",
       "version_major": 2,
       "version_minor": 0
      },
      "text/plain": [
       "  0%|          | 0/32 [00:00<?, ?batch/s]"
      ]
     },
     "metadata": {},
     "output_type": "display_data"
    }
   ],
   "source": [
    "#Librerias\n",
    "from tqdm.notebook import tqdm\n",
    "#Entrenamiento\n",
    "def train(model, num_epochs, train_dl, valid_dl, device):\n",
    "    loss_hist_train = torch.zeros(num_epochs).to(device)\n",
    "    accuracy_hist_train = torch.zeros(num_epochs).to(device)\n",
    "    loss_hist_valid = torch.zeros(num_epochs).to(device)\n",
    "    accuracy_hist_valid = torch.zeros(num_epochs).to(device)\n",
    "    for epoch in range(num_epochs):\n",
    "        with tqdm(train_dl, unit=\"batch\") as tepoch:\n",
    "            model.train()\n",
    "            for x_batch, y_batch in tepoch:\n",
    "                tepoch.set_description(f\"Epoch {epoch} train\")\n",
    "                x_batch, y_batch = x_batch.to(device,dtype=torch.float), y_batch.to(device,dtype=torch.long)\n",
    "                \n",
    "                pred = model(x_batch)\n",
    "                loss = loss_fn(pred, y_batch)\n",
    "                optimizer.zero_grad()\n",
    "                loss.backward()\n",
    "                optimizer.step()\n",
    "                loss_hist_train[epoch] += loss.item() * y_batch.size(0)\n",
    "                is_correct = (torch.argmax(pred, dim=1) == y_batch).float()\n",
    "                \n",
    "                accuracy_hist_train[epoch] += is_correct.sum()\n",
    "                tepoch.set_postfix(loss= loss_hist_train[epoch].item() /len(train_dl.dataset),accuracy= 100. * accuracy_hist_train[epoch].item() / len(train_dl.dataset))\n",
    "            loss_hist_train[epoch] /= len(train_dl.dataset)\n",
    "            accuracy_hist_train[epoch] /= len(train_dl.dataset)\n",
    "        with tqdm(valid_dl, unit=\"batch\") as vepoch:\n",
    "            model.eval()\n",
    "            with torch.no_grad():\n",
    "                for x_batch, y_batch in vepoch:\n",
    "                    vepoch.set_description(f\"Epoch {epoch} valid\")\n",
    "                    x_batch, y_batch = x_batch.to(device,dtype=torch.float), y_batch.to(device,dtype=torch.long)\n",
    "                    \n",
    "                    pred = model(x_batch)\n",
    "                    loss = loss_fn(pred, y_batch)\n",
    "                    \n",
    "                    loss_hist_valid[epoch] += loss.item() * y_batch.size(0)\n",
    "                    is_correct = (torch.argmax(pred, dim=1) == y_batch).float()\n",
    "                    \n",
    "                    accuracy_hist_valid[epoch] += is_correct.sum()\n",
    "                    vepoch.set_postfix(loss= loss_hist_valid[epoch].item() /len(valid_dl.dataset),accuracy= 100. *accuracy_hist_valid[epoch].item() / len(valid_dl.dataset))\n",
    "            loss_hist_valid[epoch] /= len(valid_dl.dataset)\n",
    "            accuracy_hist_valid[epoch] /= len(valid_dl.dataset)\n",
    "    return loss_hist_train.cpu(), loss_hist_valid.cpu(), accuracy_hist_train.cpu(), accuracy_hist_valid.cpu()\n",
    "\n",
    "torch.manual_seed(1)\n",
    "hist = train(RNNmodel, num_epochs, train_dl, valid_dl, device)"
   ]
  },
  {
   "cell_type": "code",
   "execution_count": 162,
   "metadata": {},
   "outputs": [
    {
     "data": {
      "image/png": "[encoded data removed]",
      "text/plain": [
       "<Figure size 1200x400 with 2 Axes>"
      ]
     },
     "metadata": {},
     "output_type": "display_data"
    }
   ],
   "source": [
    "x_arr = np.arange(len(hist[0])) + 1\n",
    "fig = plt.figure(figsize= (12, 4))\n",
    "ax = fig.add_subplot(1, 2, 1)\n",
    "ax.plot(x_arr, hist[0], '-o', label='Train loss')\n",
    "ax.plot(x_arr, hist[1], '--<', label='Validation loss')\n",
    "ax.set_xlabel('Epoch', size=15)\n",
    "ax.set_ylabel('Loss', size=15)\n",
    "ax.legend(fontsize=15)\n",
    "ax = fig.add_subplot(1, 2, 2)\n",
    "ax.plot(x_arr, hist[2], '-o', label='Train acc.')\n",
    "ax.plot(x_arr, hist[3], '--<', label='Validation acc.')\n",
    "ax.legend(fontsize=15)\n",
    "ax.set_xlabel('Epoch', size=15)\n",
    "ax.set_ylabel('Accuracy', size=15)\n",
    "plt.show()"
   ]
  },
  {
   "attachments": {},
   "cell_type": "markdown",
   "metadata": {},
   "source": [
    "AAAAAAAH"
   ]
  },
  {
   "attachments": {},
   "cell_type": "markdown",
   "metadata": {},
   "source": [
    "2.3 Selecionar aleatoriamente desde el conjunto Test, cinco datos por cada clase. Clasificar los datos utilizando el modelo obtenido en el item anterior. Generar un nuevo DataFrame llamado resultados, que contenga tres columnas: el id de los datos seleccionados, la clasificacion real y la\n",
    "clasificacion predicha por el modelo."
   ]
  },
  {
   "cell_type": "code",
   "execution_count": 193,
   "metadata": {},
   "outputs": [
    {
     "data": {
      "text/html": [
       "<div>\n",
       "<style scoped>\n",
       "    .dataframe tbody tr th:only-of-type {\n",
       "        vertical-align: middle;\n",
       "    }\n",
       "\n",
       "    .dataframe tbody tr th {\n",
       "        vertical-align: top;\n",
       "    }\n",
       "\n",
       "    .dataframe thead th {\n",
       "        text-align: right;\n",
       "    }\n",
       "</style>\n",
       "<table border=\"1\" class=\"dataframe\">\n",
       "  <thead>\n",
       "    <tr style=\"text-align: right;\">\n",
       "      <th></th>\n",
       "      <th>paths</th>\n",
       "      <th>class</th>\n",
       "    </tr>\n",
       "  </thead>\n",
       "  <tbody>\n",
       "    <tr>\n",
       "      <th>1626</th>\n",
       "      <td>Test Images 3360x32x32\\test\\id_2465_label_1.png</td>\n",
       "      <td>0</td>\n",
       "    </tr>\n",
       "    <tr>\n",
       "      <th>258</th>\n",
       "      <td>Test Images 3360x32x32\\test\\id_1233_label_1.png</td>\n",
       "      <td>0</td>\n",
       "    </tr>\n",
       "    <tr>\n",
       "      <th>2312</th>\n",
       "      <td>Test Images 3360x32x32\\test\\id_3082_label_1.png</td>\n",
       "      <td>0</td>\n",
       "    </tr>\n",
       "    <tr>\n",
       "      <th>632</th>\n",
       "      <td>Test Images 3360x32x32\\test\\id_1570_label_1.png</td>\n",
       "      <td>0</td>\n",
       "    </tr>\n",
       "    <tr>\n",
       "      <th>507</th>\n",
       "      <td>Test Images 3360x32x32\\test\\id_1458_label_1.png</td>\n",
       "      <td>0</td>\n",
       "    </tr>\n",
       "    <tr>\n",
       "      <th>...</th>\n",
       "      <td>...</td>\n",
       "      <td>...</td>\n",
       "    </tr>\n",
       "    <tr>\n",
       "      <th>504</th>\n",
       "      <td>Test Images 3360x32x32\\test\\id_1455_label_28.png</td>\n",
       "      <td>27</td>\n",
       "    </tr>\n",
       "    <tr>\n",
       "      <th>318</th>\n",
       "      <td>Test Images 3360x32x32\\test\\id_1288_label_28.png</td>\n",
       "      <td>27</td>\n",
       "    </tr>\n",
       "    <tr>\n",
       "      <th>1127</th>\n",
       "      <td>Test Images 3360x32x32\\test\\id_2015_label_28.png</td>\n",
       "      <td>27</td>\n",
       "    </tr>\n",
       "    <tr>\n",
       "      <th>3242</th>\n",
       "      <td>Test Images 3360x32x32\\test\\id_895_label_28.png</td>\n",
       "      <td>27</td>\n",
       "    </tr>\n",
       "    <tr>\n",
       "      <th>2060</th>\n",
       "      <td>Test Images 3360x32x32\\test\\id_2856_label_28.png</td>\n",
       "      <td>27</td>\n",
       "    </tr>\n",
       "  </tbody>\n",
       "</table>\n",
       "<p>140 rows × 2 columns</p>\n",
       "</div>"
      ],
      "text/plain": [
       "                                                 paths  class\n",
       "1626   Test Images 3360x32x32\\test\\id_2465_label_1.png      0\n",
       "258    Test Images 3360x32x32\\test\\id_1233_label_1.png      0\n",
       "2312   Test Images 3360x32x32\\test\\id_3082_label_1.png      0\n",
       "632    Test Images 3360x32x32\\test\\id_1570_label_1.png      0\n",
       "507    Test Images 3360x32x32\\test\\id_1458_label_1.png      0\n",
       "...                                                ...    ...\n",
       "504   Test Images 3360x32x32\\test\\id_1455_label_28.png     27\n",
       "318   Test Images 3360x32x32\\test\\id_1288_label_28.png     27\n",
       "1127  Test Images 3360x32x32\\test\\id_2015_label_28.png     27\n",
       "3242   Test Images 3360x32x32\\test\\id_895_label_28.png     27\n",
       "2060  Test Images 3360x32x32\\test\\id_2856_label_28.png     27\n",
       "\n",
       "[140 rows x 2 columns]"
      ]
     },
     "execution_count": 193,
     "metadata": {},
     "output_type": "execute_result"
    }
   ],
   "source": [
    "df = df_test.copy()\n",
    "resultados =pd.DataFrame()\n",
    "dfs = []\n",
    "for i in range(0,28):\n",
    "    dfs = df[df['class'] == i].sample(5)\n",
    "    resultados =pd.concat([resultados, dfs])\n",
    "resultados"
   ]
  },
  {
   "cell_type": "code",
   "execution_count": 194,
   "metadata": {},
   "outputs": [],
   "source": [
    "indxs = [i for i in range(len(resultados['class']))]\n",
    "#Dataset\n",
    "_ds = CustomImageDataset(resultados['paths'], resultados['class'], indxs)\n",
    "#DataLoader\n",
    "_dl = DataLoader(_ds,batch_size=batch_size, shuffle = False)\n",
    "\n",
    "#prediccion del modelo con el conjunto 'valid_dl'\n",
    "RNNmodel.eval()\n",
    "_pred = []\n",
    "_val = []\n",
    "with torch.no_grad():\n",
    "    for x, y in _dl:\n",
    "        x = x.to(device)\n",
    "        #Se obtene las predicciones del modelo entregandole x del conjunto 'valid_dl'\n",
    "        pred = RNNmodel(x)\n",
    "        #El conjunto trabaja con batch size de 128, todos los resultados se acoplan a una lista de tensores, esto se aplica para \n",
    "        #el conjunto original y el predicho\n",
    "        _pred.extend(pred)\n",
    "        _val.extend(y)\n",
    "#Funcion que toma los tensores creados anteriormente y los tranfroma a una lista binaria\n",
    "pred = []\n",
    "val = []\n",
    "for tensor1,tensor2 in zip(_pred,_val):\n",
    "    #La pocision del valor maximo indica a la clase que pertenece\n",
    "    tensor1 = torch.argmax(tensor1)\n",
    "    tensor1 = tensor1.to('cpu')\n",
    "    tensor2 = tensor2.to('cpu')\n",
    "    valu1 = tensor1.item()\n",
    "    valu2 = tensor2.tolist()\n",
    "    pred.append(valu1)\n",
    "    val.append(valu2)"
   ]
  },
  {
   "cell_type": "code",
   "execution_count": 195,
   "metadata": {},
   "outputs": [
    {
     "data": {
      "text/html": [
       "<div>\n",
       "<style scoped>\n",
       "    .dataframe tbody tr th:only-of-type {\n",
       "        vertical-align: middle;\n",
       "    }\n",
       "\n",
       "    .dataframe tbody tr th {\n",
       "        vertical-align: top;\n",
       "    }\n",
       "\n",
       "    .dataframe thead th {\n",
       "        text-align: right;\n",
       "    }\n",
       "</style>\n",
       "<table border=\"1\" class=\"dataframe\">\n",
       "  <thead>\n",
       "    <tr style=\"text-align: right;\">\n",
       "      <th></th>\n",
       "      <th>ID</th>\n",
       "      <th>class</th>\n",
       "      <th>predicted_class</th>\n",
       "    </tr>\n",
       "  </thead>\n",
       "  <tbody>\n",
       "    <tr>\n",
       "      <th>0</th>\n",
       "      <td>2465</td>\n",
       "      <td>0</td>\n",
       "      <td>0</td>\n",
       "    </tr>\n",
       "    <tr>\n",
       "      <th>1</th>\n",
       "      <td>1233</td>\n",
       "      <td>0</td>\n",
       "      <td>0</td>\n",
       "    </tr>\n",
       "    <tr>\n",
       "      <th>2</th>\n",
       "      <td>3082</td>\n",
       "      <td>0</td>\n",
       "      <td>0</td>\n",
       "    </tr>\n",
       "    <tr>\n",
       "      <th>3</th>\n",
       "      <td>1570</td>\n",
       "      <td>0</td>\n",
       "      <td>0</td>\n",
       "    </tr>\n",
       "    <tr>\n",
       "      <th>4</th>\n",
       "      <td>1458</td>\n",
       "      <td>0</td>\n",
       "      <td>0</td>\n",
       "    </tr>\n",
       "    <tr>\n",
       "      <th>...</th>\n",
       "      <td>...</td>\n",
       "      <td>...</td>\n",
       "      <td>...</td>\n",
       "    </tr>\n",
       "    <tr>\n",
       "      <th>135</th>\n",
       "      <td>1455</td>\n",
       "      <td>27</td>\n",
       "      <td>27</td>\n",
       "    </tr>\n",
       "    <tr>\n",
       "      <th>136</th>\n",
       "      <td>1288</td>\n",
       "      <td>27</td>\n",
       "      <td>27</td>\n",
       "    </tr>\n",
       "    <tr>\n",
       "      <th>137</th>\n",
       "      <td>2015</td>\n",
       "      <td>27</td>\n",
       "      <td>27</td>\n",
       "    </tr>\n",
       "    <tr>\n",
       "      <th>138</th>\n",
       "      <td>895</td>\n",
       "      <td>27</td>\n",
       "      <td>27</td>\n",
       "    </tr>\n",
       "    <tr>\n",
       "      <th>139</th>\n",
       "      <td>2856</td>\n",
       "      <td>27</td>\n",
       "      <td>27</td>\n",
       "    </tr>\n",
       "  </tbody>\n",
       "</table>\n",
       "<p>140 rows × 3 columns</p>\n",
       "</div>"
      ],
      "text/plain": [
       "       ID  class  predicted_class\n",
       "0    2465      0                0\n",
       "1    1233      0                0\n",
       "2    3082      0                0\n",
       "3    1570      0                0\n",
       "4    1458      0                0\n",
       "..    ...    ...              ...\n",
       "135  1455     27               27\n",
       "136  1288     27               27\n",
       "137  2015     27               27\n",
       "138   895     27               27\n",
       "139  2856     27               27\n",
       "\n",
       "[140 rows x 3 columns]"
      ]
     },
     "execution_count": 195,
     "metadata": {},
     "output_type": "execute_result"
    }
   ],
   "source": [
    "resultados['predicted_class']= pred\n",
    "resultados['paths'] = resultados['paths'].str.split(\"_\").str[1]\n",
    "resultados['paths'] = pd.to_numeric(resultados['paths'])\n",
    "resultados.rename(columns={'paths': 'ID'}, inplace=True)\n",
    "resultados = resultados.reset_index(drop=True)\n",
    "resultados"
   ]
  },
  {
   "attachments": {},
   "cell_type": "markdown",
   "metadata": {},
   "source": [
    "2.4 Por cada capa del modelo, calcular la cantidad de parametros (pesos). Agregar el detalle del calculo."
   ]
  },
  {
   "attachments": {},
   "cell_type": "markdown",
   "metadata": {},
   "source": [
    "La capa RNN 1-1: tiene una entrada de tamaño (32, 512) que corresponden a (input_size, hidden_size), tiene una matriz de pesos que conecta la entrada con la capa oculta (32 + 512, 512) que corresponden a (input_size + hidden_size, hidden_size) = (544, 512) y tiene el bias (512,0).\n",
    "Calculo pesos: 32 x 512 + 544 x 512 + 512 = 279,552.\n",
    "\n",
    "La capa RNN 1-2: tiene una entrada de tamaño (512, 512), tiene una matriz de pesos (512 + 512, 512) = (1024, 512)y tiene el bias (512,0).\n",
    "Calculo pesos:  512 x 512 + 1024 x 512 + 512 = 525,312.\n",
    "\n",
    "La capa Linear 1-3: tiene una matriz de pesos de tamaño (512, 28) que corresponde a (hidden_size, num_classes) y el bias (28,0).\n",
    "Calculo de pesos: 512 x 28 + 28 = 14,364."
   ]
  }
 ],
 "metadata": {
  "kernelspec": {
   "display_name": "ima539",
   "language": "python",
   "name": "python3"
  },
  "language_info": {
   "codemirror_mode": {
    "name": "ipython",
    "version": 3
   },
   "file_extension": ".py",
   "mimetype": "text/x-python",
   "name": "python",
   "nbconvert_exporter": "python",
   "pygments_lexer": "ipython3",
   "version": "3.9.16"
  },
  "orig_nbformat": 4
 },
 "nbformat": 4,
 "nbformat_minor": 2
}

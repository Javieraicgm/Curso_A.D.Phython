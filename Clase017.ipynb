{
 "cells": [
  {
   "attachments": {},
   "cell_type": "markdown",
   "metadata": {},
   "source": [
    "### 1 Clase de Ejercicios\n",
    "#### 1.1 Problema 1\n",
    "La segmentación de clientes corresponde a agrupar clientes con características similares. Estas características pueden incluír ubicación geográfica, estilos de vida, comportamientos, etc. Uno de los objetivos más conocidos de esta tarea corresponde a la selección de un grupo objetivo para la aplicación de alguna campaña de publicidad.\n",
    "La base de datos Mall-customer-data.csv contiene información de clientes que han realizado compras en una tienda de un centro comercial. Cada muestra del conjunto de datos contiene: \n",
    "- ID.\n",
    "- Edad. \n",
    "- Género. \n",
    "- Ingresos anuales. \n",
    "- Puntuación de gasto.\n",
    "\n",
    "Se busca determinar cuales son los grupos de clientes que realizan compras. Para esto:\n",
    "1. Realice un análisis exploratorio del conjunto de datos. Se recomienda: Cantidad de muestras según rango etareo/género, género v/s puntuación de gasto, edad v/s ingreso anual, etc. \n",
    "2. Entrene un modelode KMeans en las tres columnas de datos continuos que considere más relevantes. Justifique el número de clusters que eligió. \n",
    "3. Grafique en 3D los clústers encontrados específicando en cada uno la ubicación del centroide. \n",
    "4. ¿Es correcta la segmentación encontrada? Concluya.\n",
    "\n",
    "#### 1.2 Problema 2\n",
    "La competición de Kaggle California House Prices tiene por finalidad la predicción del precio de casas en ubicadas en el estado de California. La base de datos callifornia-house-prices.csv contiene 47.439 muestras y un total de 41 columnas con información relevante a las casas como número de baños, cercanía a escuelas, metros cuadrados, entre otros; además del precio de venta de los inmuebles para el año 2020. Para resolver este problema, seleccione 5 columnas de datos continuos y entrene dos modelos de regresión (uno lineal y otro no lineal) para la predicción del precio de venta de la edificación, justifique su elección.\n",
    "Una vez entrenados los modelos reporte al menos 𝑀 𝑆𝐸 y 𝑅2."
   ]
  },
  {
   "cell_type": "code",
   "execution_count": 6,
   "metadata": {},
   "outputs": [
    {
     "data": {
      "text/html": [
       "<div>\n",
       "<style scoped>\n",
       "    .dataframe tbody tr th:only-of-type {\n",
       "        vertical-align: middle;\n",
       "    }\n",
       "\n",
       "    .dataframe tbody tr th {\n",
       "        vertical-align: top;\n",
       "    }\n",
       "\n",
       "    .dataframe thead th {\n",
       "        text-align: right;\n",
       "    }\n",
       "</style>\n",
       "<table border=\"1\" class=\"dataframe\">\n",
       "  <thead>\n",
       "    <tr style=\"text-align: right;\">\n",
       "      <th></th>\n",
       "      <th>Gender</th>\n",
       "      <th>Age</th>\n",
       "      <th>Annual Income (k$)</th>\n",
       "      <th>Spending Score (1-100)</th>\n",
       "    </tr>\n",
       "  </thead>\n",
       "  <tbody>\n",
       "    <tr>\n",
       "      <th>0</th>\n",
       "      <td>Male</td>\n",
       "      <td>19</td>\n",
       "      <td>15</td>\n",
       "      <td>39</td>\n",
       "    </tr>\n",
       "    <tr>\n",
       "      <th>1</th>\n",
       "      <td>Male</td>\n",
       "      <td>21</td>\n",
       "      <td>15</td>\n",
       "      <td>81</td>\n",
       "    </tr>\n",
       "    <tr>\n",
       "      <th>2</th>\n",
       "      <td>Female</td>\n",
       "      <td>20</td>\n",
       "      <td>16</td>\n",
       "      <td>6</td>\n",
       "    </tr>\n",
       "    <tr>\n",
       "      <th>3</th>\n",
       "      <td>Female</td>\n",
       "      <td>23</td>\n",
       "      <td>16</td>\n",
       "      <td>77</td>\n",
       "    </tr>\n",
       "    <tr>\n",
       "      <th>4</th>\n",
       "      <td>Female</td>\n",
       "      <td>31</td>\n",
       "      <td>17</td>\n",
       "      <td>40</td>\n",
       "    </tr>\n",
       "    <tr>\n",
       "      <th>...</th>\n",
       "      <td>...</td>\n",
       "      <td>...</td>\n",
       "      <td>...</td>\n",
       "      <td>...</td>\n",
       "    </tr>\n",
       "    <tr>\n",
       "      <th>195</th>\n",
       "      <td>Female</td>\n",
       "      <td>35</td>\n",
       "      <td>120</td>\n",
       "      <td>79</td>\n",
       "    </tr>\n",
       "    <tr>\n",
       "      <th>196</th>\n",
       "      <td>Female</td>\n",
       "      <td>45</td>\n",
       "      <td>126</td>\n",
       "      <td>28</td>\n",
       "    </tr>\n",
       "    <tr>\n",
       "      <th>197</th>\n",
       "      <td>Male</td>\n",
       "      <td>32</td>\n",
       "      <td>126</td>\n",
       "      <td>74</td>\n",
       "    </tr>\n",
       "    <tr>\n",
       "      <th>198</th>\n",
       "      <td>Male</td>\n",
       "      <td>32</td>\n",
       "      <td>137</td>\n",
       "      <td>18</td>\n",
       "    </tr>\n",
       "    <tr>\n",
       "      <th>199</th>\n",
       "      <td>Male</td>\n",
       "      <td>30</td>\n",
       "      <td>137</td>\n",
       "      <td>83</td>\n",
       "    </tr>\n",
       "  </tbody>\n",
       "</table>\n",
       "<p>200 rows × 4 columns</p>\n",
       "</div>"
      ],
      "text/plain": [
       "     Gender  Age  Annual Income (k$)  Spending Score (1-100)\n",
       "0      Male   19                  15                      39\n",
       "1      Male   21                  15                      81\n",
       "2    Female   20                  16                       6\n",
       "3    Female   23                  16                      77\n",
       "4    Female   31                  17                      40\n",
       "..      ...  ...                 ...                     ...\n",
       "195  Female   35                 120                      79\n",
       "196  Female   45                 126                      28\n",
       "197    Male   32                 126                      74\n",
       "198    Male   32                 137                      18\n",
       "199    Male   30                 137                      83\n",
       "\n",
       "[200 rows x 4 columns]"
      ]
     },
     "execution_count": 6,
     "metadata": {},
     "output_type": "execute_result"
    }
   ],
   "source": [
    "import pandas as pd\n",
    "#Lescura csv\n",
    "df_customer = pd.read_csv('./Clase17-databases/Mall_Customers.csv')\n",
    "#se quita primera columna inecesaria\n",
    "df_customer.drop(columns= 'CustomerID', inplace= True)\n",
    "df_customer"
   ]
  },
  {
   "cell_type": "code",
   "execution_count": null,
   "metadata": {},
   "outputs": [],
   "source": [
    "#Graficar 1.1.1"
   ]
  },
  {
   "cell_type": "code",
   "execution_count": 10,
   "metadata": {},
   "outputs": [
    {
     "name": "stderr",
     "output_type": "stream",
     "text": [
      "c:\\Users\\Javiera Carrasco\\anaconda3\\envs\\ima539\\lib\\site-packages\\sklearn\\cluster\\_kmeans.py:1036: UserWarning: KMeans is known to have a memory leak on Windows with MKL, when there are less chunks than available threads. You can avoid it by setting the environment variable OMP_NUM_THREADS=1.\n",
      "  warnings.warn(\n"
     ]
    },
    {
     "data": {
      "image/png": "[encoded data removed]",
      "text/plain": [
       "<Figure size 640x480 with 1 Axes>"
      ]
     },
     "metadata": {},
     "output_type": "display_data"
    }
   ],
   "source": [
    "#1.1.2\n",
    "from sklearn.cluster import KMeans\n",
    "import matplotlib.pyplot as plt\n",
    "from sklearn.preprocessing import MinMaxScaler\n",
    "#3 columnas\n",
    "x = df_customer[['Age','Spending Score (1-100)','Annual Income (k$)']].values\n",
    "#Estandarizar\n",
    "scaler = MinMaxScaler()\n",
    "x_std = scaler.fit_transform(x)\n",
    "#num clasters\n",
    "distortions = []\n",
    "for i in range(1, 11):\n",
    "    km = KMeans(n_clusters=i, init='k-means++', n_init=10, max_iter=300,random_state=0)\n",
    "    km.fit(x_std)\n",
    "    distortions.append(km.inertia_)\n",
    "plt.plot(range(1, 11), distortions, marker='o')\n",
    "plt.xlabel('Cantidad de clusters')\n",
    "plt.ylabel('Distorción')\n",
    "plt.tight_layout()\n",
    "#plt.savefig('images/11_03.png', dpi=300)\n",
    "plt.show()\n"
   ]
  },
  {
   "cell_type": "code",
   "execution_count": 13,
   "metadata": {},
   "outputs": [],
   "source": [
    "km = KMeans(n_clusters=6, init='k-means++',n_init=10,max_iter=300,tol=1e-04,random_state=0)\n",
    "y = km.fit_predict(x_std)"
   ]
  },
  {
   "cell_type": "code",
   "execution_count": 14,
   "metadata": {},
   "outputs": [
    {
     "data": {
      "text/plain": [
       "array([5, 1, 5, 1, 5, 1, 3, 1, 3, 1, 3, 1, 3, 1, 3, 1, 3, 1, 3, 1, 3, 1,\n",
       "       3, 1, 3, 1, 3, 1, 3, 1, 3, 1, 3, 1, 3, 1, 3, 1, 3, 1, 2, 1, 3, 5,\n",
       "       3, 1, 2, 5, 5, 5, 2, 5, 5, 2, 2, 2, 2, 2, 5, 2, 2, 5, 2, 2, 2, 5,\n",
       "       2, 2, 5, 5, 2, 2, 2, 2, 2, 5, 2, 5, 5, 2, 2, 5, 2, 2, 5, 2, 2, 5,\n",
       "       5, 2, 2, 5, 2, 5, 5, 5, 2, 5, 2, 5, 5, 2, 2, 5, 2, 5, 2, 2, 2, 2,\n",
       "       2, 5, 5, 5, 5, 5, 2, 2, 2, 2, 5, 5, 4, 4, 5, 4, 0, 4, 0, 4, 0, 4,\n",
       "       5, 4, 5, 4, 0, 4, 5, 4, 0, 4, 5, 4, 0, 4, 0, 4, 0, 4, 0, 4, 0, 4,\n",
       "       0, 4, 0, 4, 0, 4, 2, 4, 5, 4, 0, 4, 0, 4, 0, 4, 0, 4, 0, 4, 0, 4,\n",
       "       0, 4, 0, 4, 0, 4, 0, 4, 0, 4, 0, 4, 0, 4, 0, 4, 0, 4, 0, 4, 0, 4,\n",
       "       0, 4])"
      ]
     },
     "execution_count": 14,
     "metadata": {},
     "output_type": "execute_result"
    }
   ],
   "source": [
    "y"
   ]
  },
  {
   "cell_type": "code",
   "execution_count": 15,
   "metadata": {},
   "outputs": [
    {
     "data": {
      "text/plain": [
       "array([[0.4882134 , 0.17083608, 0.61237441],\n",
       "       [0.13986014, 0.79962894, 0.08792846],\n",
       "       [0.73717949, 0.49047619, 0.32185792],\n",
       "       [0.56983806, 0.18367347, 0.10094909],\n",
       "       [0.28605769, 0.82168367, 0.58278689],\n",
       "       [0.15205725, 0.4439962 , 0.32691575]])"
      ]
     },
     "execution_count": 15,
     "metadata": {},
     "output_type": "execute_result"
    }
   ],
   "source": [
    "km.cluster_centers_"
   ]
  },
  {
   "cell_type": "code",
   "execution_count": null,
   "metadata": {},
   "outputs": [],
   "source": [
    "#1.1.3\n",
    "unsclaes_values = (km.cluster_centers_- scaler.min_ )/scaler.scale_"
   ]
  },
  {
   "cell_type": "code",
   "execution_count": 16,
   "metadata": {},
   "outputs": [],
   "source": [
    "from PIL import Image "
   ]
  },
  {
   "cell_type": "code",
   "execution_count": 18,
   "metadata": {},
   "outputs": [
    {
     "name": "stdout",
     "output_type": "stream",
     "text": [
      "(5751, 41)\n"
     ]
    },
    {
     "data": {
      "text/plain": [
       "array(['Id', 'Address', 'Sold Price', 'Summary', 'Type', 'Year built',\n",
       "       'Heating', 'Cooling', 'Parking', 'Lot', 'Bedrooms', 'Bathrooms',\n",
       "       'Full bathrooms', 'Total interior livable area', 'Total spaces',\n",
       "       'Garage spaces', 'Region', 'Elementary School',\n",
       "       'Elementary School Score', 'Elementary School Distance',\n",
       "       'Middle School', 'Middle School Score', 'Middle School Distance',\n",
       "       'High School', 'High School Score', 'High School Distance',\n",
       "       'Flooring', 'Heating features', 'Cooling features',\n",
       "       'Appliances included', 'Laundry features', 'Parking features',\n",
       "       'Tax assessed value', 'Annual tax amount', 'Listed On',\n",
       "       'Listed Price', 'Last Sold On', 'Last Sold Price', 'City', 'Zip',\n",
       "       'State'], dtype=object)"
      ]
     },
     "execution_count": 18,
     "metadata": {},
     "output_type": "execute_result"
    }
   ],
   "source": [
    "#Lescura csv\n",
    "df = pd.read_csv('./Clase17-databases/california-house-prices.csv')\n",
    "workable_df = df.dropna()\n",
    "print(workable_df.shape)\n",
    "df.columns.values"
   ]
  }
 ],
 "metadata": {
  "kernelspec": {
   "display_name": "ima539",
   "language": "python",
   "name": "python3"
  },
  "language_info": {
   "codemirror_mode": {
    "name": "ipython",
    "version": 3
   },
   "file_extension": ".py",
   "mimetype": "text/x-python",
   "name": "python",
   "nbconvert_exporter": "python",
   "pygments_lexer": "ipython3",
   "version": "3.9.0"
  },
  "orig_nbformat": 4
 },
 "nbformat": 4,
 "nbformat_minor": 2
}
